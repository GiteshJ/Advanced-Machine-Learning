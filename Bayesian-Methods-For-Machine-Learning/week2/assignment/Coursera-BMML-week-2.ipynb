{
 "cells": [
  {
   "cell_type": "markdown",
   "metadata": {},
   "source": [
    "# Expectation-maximization algorithm"
   ]
  },
  {
   "cell_type": "markdown",
   "metadata": {},
   "source": [
    "In this assignment, we will derive and implement formulas for Gaussian Mixture Model вЂ” one of the most commonly used methods for performing soft clustering of the data. "
   ]
  },
  {
   "cell_type": "markdown",
   "metadata": {},
   "source": [
    "### Installation\n",
    "\n",
    "We will need ```numpy```, ```scikit-learn```, ```matplotlib``` libraries for this assignment"
   ]
  },
  {
   "cell_type": "code",
   "execution_count": 2,
   "metadata": {},
   "outputs": [],
   "source": [
    "import numpy as np\n",
    "from numpy.linalg import slogdet, det, solve\n",
    "import matplotlib.pyplot as plt\n",
    "import time\n",
    "from sklearn.datasets import load_digits\n",
    "from grader import Grader\n",
    "%matplotlib inline"
   ]
  },
  {
   "cell_type": "markdown",
   "metadata": {},
   "source": [
    "### Grading\n",
    "We will create a grader instance below and use it to collect your answers. Note that these outputs will be stored locally inside grader and will be uploaded to the platform only after running submitting function in the last part of this assignment. If you want to make a partial submission, you can run that cell anytime you want."
   ]
  },
  {
   "cell_type": "code",
   "execution_count": 3,
   "metadata": {},
   "outputs": [],
   "source": [
    "grader = Grader()"
   ]
  },
  {
   "cell_type": "markdown",
   "metadata": {},
   "source": [
    "## Implementing EM for GMM"
   ]
  },
  {
   "cell_type": "markdown",
   "metadata": {},
   "source": [
    "For debugging we will use samples from gaussian mixture model with unknown mean, variance and priors. We also added inital values of parameters for grading purposes."
   ]
  },
  {
   "cell_type": "code",
   "execution_count": 4,
   "metadata": {},
   "outputs": [
    {
     "data": {
      "image/png": "[encoded data removed]",
      "text/plain": [
       "<matplotlib.figure.Figure at 0x10f64acc0>"
      ]
     },
     "metadata": {},
     "output_type": "display_data"
    }
   ],
   "source": [
    "samples = np.load('samples.npz')\n",
    "X = samples['data']\n",
    "pi0 = samples['pi0']\n",
    "mu0 = samples['mu0']\n",
    "sigma0 = samples['sigma0']\n",
    "plt.scatter(X[:, 0], X[:, 1], c='grey', s=30)\n",
    "plt.axis('equal')\n",
    "plt.show()"
   ]
  },
  {
   "cell_type": "markdown",
   "metadata": {},
   "source": [
    "### Reminder"
   ]
  },
  {
   "cell_type": "markdown",
   "metadata": {},
   "source": [
    "Remember, that EM algorithm is a coordinate descent optimization of variational lower bound $\\mathcal{L}(\\theta, q) = \\int q(T) \\log\\frac{P(X, T|\\theta)}{q(T)}dT\\to \\max$.\n",
    "\n",
    "<b>E-step</b>:<br>\n",
    "$\\mathcal{L}(\\theta, q) \\to \\max\\limits_{q} \\Leftrightarrow \\mathcal{KL} [q(T) \\,\\|\\, p(T|X, \\theta)] \\to \\min \\limits_{q\\in Q} \\Rightarrow q(T) = p(T|X, \\theta)$<br>\n",
    "<b>M-step</b>:<br> \n",
    "$\\mathcal{L}(\\theta, q) \\to \\max\\limits_{\\theta} \\Leftrightarrow \\mathbb{E}_{q(T)}\\log p(X,T | \\theta) \\to \\max\\limits_{\\theta}$\n",
    "\n",
    "For GMM, $\\theta$ is a set of parameters that consists of mean vectors $\\mu_c$, covariance matrices $\\Sigma_c$ and priors $\\pi_c$ for each component.\n",
    "\n",
    "Latent variables $T$ are indices of components to which each data point is assigned. $T_i$ (cluster index for object $i$) is a binary vector with only one active bit in position corresponding to the true component. For example, if we have $C=3$ components and object $i$ lies in first component, $T_i = [1, 0, 0]$.\n",
    "\n",
    "The joint distribution can be written as follows: $p(T, X \\mid \\theta) =  \\prod\\limits_{i=1}^N p(T_i, X_i \\mid \\theta) = \\prod\\limits_{i=1}^N \\prod\\limits_{c=1}^C [\\pi_c \\mathcal{N}(X_i \\mid \\mu_c, \\Sigma_c)]^{T_{ic}}$."
   ]
  },
  {
   "cell_type": "markdown",
   "metadata": {},
   "source": [
    "### E-step\n",
    "In this step we need to estimate the posterior distribution over the latent variables with fixed values of parameters: $q(T) = p(T|X, \\theta)$. We will assume that $T_i$ (cluster index for object $i$) is a binary vector with only one '1' in position corresponding to the true component. To do so we need to compute $\\gamma_{ic} = P(T_{ic} = 1 \\mid X, \\theta)$. Note that $\\sum\\limits_{c=1}^C\\gamma_{ic}=1$.\n"
   ]
  },
  {
   "cell_type": "markdown",
   "metadata": {},
   "source": [
    "<b>Important trick 1:</b> It is important to avoid numerical errors. At some point you will have to compute the formula of the following form: $\\frac{e^{x_i}}{\\sum_j e^{x_j}}$. When you compute exponents of large numbers, you get huge numerical errors (some numbers will simply become infinity). You can avoid this by dividing numerator and denominator by $e^{\\max(x)}$: $\\frac{e^{x_i-\\max(x)}}{\\sum_j e^{x_j - \\max(x)}}$. After this transformation maximum value in the denominator will be equal to one. All other terms will contribute smaller values. This trick is called log-sum-exp. So, to compute desired formula you first subtract maximum value from each component in vector $X$ and then compute everything else as before.\n",
    "\n",
    "<b>Important trick 2:</b> You will probably need to compute formula of the form $A^{-1}x$ at some point. You would normally inverse $A$ and then multiply it by $x$. A bit faster and more numerically accurate way to do this is to solve the equation $Ay = x$. Its solution is $y=A^{-1}x$, but the equation $Ay = x$ can be solved by Gaussian elimination procedure. You can use ```np.linalg.solve``` for this.\n",
    "\n",
    "<b>Other usefull functions: </b> <a href=\"https://docs.scipy.org/doc/numpy/reference/generated/numpy.linalg.slogdet.html\">```slogdet```</a> and <a href=\"https://docs.scipy.org/doc/numpy/reference/generated/numpy.linalg.det.html#numpy.linalg.det\">```det```</a>"
   ]
  },
  {
   "cell_type": "markdown",
   "metadata": {},
   "source": [
    "<b>Task 1:</b> Implement E-step for GMM using template below."
   ]
  },
  {
   "cell_type": "code",
   "execution_count": 5,
   "metadata": {},
   "outputs": [],
   "source": [
    "from scipy.stats import multivariate_normal\n",
    "def E_step(X, pi, mu, sigma):\n",
    "    \"\"\"\n",
    "    Performs E-step on GMM model\n",
    "    Each input is numpy array:\n",
    "    X: (N x d), data points\n",
    "    pi: (C), mixture component weights \n",
    "    mu: (C x d), mixture component means\n",
    "    sigma: (C x d x d), mixture component covariance matrices\n",
    "    \n",
    "    Returns:\n",
    "    gamma: (N x C), probabilities of clusters for objects\n",
    "    \"\"\"\n",
    "    N = X.shape[0] # number of objects\n",
    "    C = pi.shape[0] # number of clusters\n",
    "    d = mu.shape[1] # dimension of each object\n",
    "    gamma = np.zeros((N, C)) # distribution q(T)\n",
    "\n",
    "    for i in range(C):\n",
    "        model = multivariate_normal(mean=mu[i,:], cov=sigma[i,:])\n",
    "        gamma[:,i] = model.pdf(X)\n",
    "    gamma *= pi\n",
    "    gamma = gamma/gamma.sum(axis=1, keepdims=True)\n",
    "    return gamma"
   ]
  },
  {
   "cell_type": "code",
   "execution_count": 6,
   "metadata": {},
   "outputs": [
    {
     "name": "stdout",
     "output_type": "stream",
     "text": [
      "Current answer for task Task 1 (E-step) is: 0.533717874108\n"
     ]
    }
   ],
   "source": [
    "gamma = E_step(X, pi0, mu0, sigma0)\n",
    "grader.submit_e_step(gamma)"
   ]
  },
  {
   "cell_type": "markdown",
   "metadata": {},
   "source": [
    "### M-step\n",
    "\n",
    "In M-step we need to maximize $\\mathbb{E}_{q(T)}\\log p(X,T | \\theta)$ with respect to $\\theta$. In our model this means that we need to find optimal values of $\\pi$, $\\mu$, $\\Sigma$. To do so, you need to compute the derivatives and \n",
    "set them to zero. You should start by deriving formulas for $\\mu$ as it is the easiest part. Then move on to $\\Sigma$. Here it is crucial to optimize function w.r.t. to $\\Lambda = \\Sigma^{-1}$ and then inverse obtained result. Finaly, to compute $\\pi$, you will need <a href=\"https://www3.nd.edu/~jstiver/FIN360/Constrained%20Optimization.pdf\">Lagrange Multipliers technique</a> to satisfy constraint $\\sum\\limits_{i=1}^{n}\\pi_i = 1$.\n",
    "\n",
    "<br>\n",
    "<b>Important note:</b> You will need to compute derivatives of scalars with respect to matrices. To refresh this technique from previous courses, see <a href=\"https://en.wikipedia.org/wiki/Matrix_calculus\"> wiki article</a> about it . Main formulas of matrix derivatives can be found in <a href=\"http://www2.imm.dtu.dk/pubdb/views/edoc_download.php/3274/pdf/imm3274.pdf\">Chapter 2 of The Matrix Cookbook</a>. For example, there you may find that $\\frac{\\partial}{\\partial A}\\log |A| = A^{-T}$.\n"
   ]
  },
  {
   "cell_type": "markdown",
   "metadata": {},
   "source": [
    "<b>Task 2:</b> Implement M-step for GMM using template below."
   ]
  },
  {
   "cell_type": "code",
   "execution_count": 7,
   "metadata": {},
   "outputs": [],
   "source": [
    "def M_step(X, gamma):\n",
    "    \"\"\"\n",
    "    Performs M-step on GMM model\n",
    "    Each input is numpy array:\n",
    "    X: (N x d), data points\n",
    "    gamma: (N x C), distribution q(T)  \n",
    "    \n",
    "    Returns:\n",
    "    pi: (C)\n",
    "    mu: (C x d)\n",
    "    sigma: (C x d x d)\n",
    "    \"\"\"\n",
    "    N = X.shape[0] # number of objects\n",
    "    C = gamma.shape[1] # number of clusters\n",
    "    d = X.shape[1] # dimension of each object\n",
    "    pi = np.zeros(C)\n",
    "    mu = np.zeros((C, d))\n",
    "    sigma = np.zeros((C, d, d))\n",
    "    for k in range(C):\n",
    "        q_sum = gamma[:,k].sum()\n",
    "        mu[k,:] = (X*gamma[:,k][:, np.newaxis]).sum(axis=0)/ q_sum\n",
    "        sigma[k,:] = np.sum([gamma[i,k] * np.outer(X[i] - mu[k], X[i] - mu[k]) for i in range(N)], axis=0) / q_sum\n",
    "        pi[k] = q_sum / N\n",
    "\n",
    "    return pi, mu, sigma"
   ]
  },
  {
   "cell_type": "code",
   "execution_count": 8,
   "metadata": {},
   "outputs": [
    {
     "name": "stdout",
     "output_type": "stream",
     "text": [
      "Current answer for task Task 2 (M-step: mu) is: 2.89939188205\n",
      "Current answer for task Task 2 (M-step: sigma) is: 5.9771052169\n",
      "Current answer for task Task 2 (M-step: pi) is: 0.550762445922\n"
     ]
    }
   ],
   "source": [
    "gamma = E_step(X, pi0, mu0, sigma0)\n",
    "pi, mu, sigma = M_step(X, gamma)\n",
    "grader.submit_m_step(pi, mu, sigma)"
   ]
  },
  {
   "cell_type": "markdown",
   "metadata": {},
   "source": [
    "### Loss function"
   ]
  },
  {
   "cell_type": "markdown",
   "metadata": {},
   "source": [
    "Finally, we need some function to track convergence. We will use variational lower bound $\\mathcal{L}$ for this purpose. We will stop our EM iterations when $\\mathcal{L}$ will saturate. Usually, you will need only about 10-20 iterations to converge. It is also useful to check that this function never decreases during training. If it does, you have a bug in your code.\n",
    "\n",
    "<b>Task 3:</b> Implement a function that will compute $\\mathcal{L}$ using template below.\n",
    "\n",
    "$$\\mathcal{L} = \\sum_{n=1}^{N} \\sum_{k=1}^{K} \\mathbb{E}[z_{n, k}] (\\log \\pi_k + \\log \\mathcal{N}(x_n | \\mu_k, \\sigma_k)) - \\sum_{n=1}^{N} \\sum_{k=1}^{K} \\mathbb{E}[z_{n, k}] \\log \\mathbb{E}[z_{n, k}]$$"
   ]
  },
  {
   "cell_type": "code",
   "execution_count": 43,
   "metadata": {},
   "outputs": [],
   "source": [
    "def compute_vlb(X, pi, mu, sigma, gamma):\n",
    "    \"\"\"\n",
    "    Each input is numpy array:\n",
    "    X: (N x d), data points\n",
    "    gamma: (N x C), distribution q(T)  \n",
    "    pi: (C)\n",
    "    mu: (C x d)\n",
    "    sigma: (C x d x d)\n",
    "    \n",
    "    Returns value of variational lower bound\n",
    "    \"\"\"\n",
    "    N = X.shape[0] # number of objects\n",
    "    C = gamma.shape[1] # number of clusters\n",
    "    d = X.shape[1] # dimension of each object\n",
    "\n",
    "    loss = 0\n",
    "    for k in range(C):\n",
    "        dist = multivariate_normal(mu[k], sigma[k],allow_singular=True)\n",
    "        for n in range(N):\n",
    "            loss += gamma[n,k]*(np.log(pi[k]+0.00001)+dist.logpdf(X[n,:])-np.log(gamma[n,k]+0.000001))\n",
    "\n",
    "    return loss"
   ]
  },
  {
   "cell_type": "code",
   "execution_count": 34,
   "metadata": {},
   "outputs": [
    {
     "name": "stdout",
     "output_type": "stream",
     "text": [
      "Current answer for task Task 3 (VLB) is: -1213.97346553\n"
     ]
    }
   ],
   "source": [
    "pi, mu, sigma = pi0, mu0, sigma0\n",
    "gamma = E_step(X, pi, mu, sigma)\n",
    "pi, mu, sigma = M_step(X, gamma)\n",
    "loss = compute_vlb(X, pi, mu, sigma, gamma)\n",
    "grader.submit_VLB(loss)"
   ]
  },
  {
   "cell_type": "code",
   "execution_count": 45,
   "metadata": {},
   "outputs": [
    {
     "name": "stdout",
     "output_type": "stream",
     "text": [
      "[ 0.46383545  0.52768499  0.00847956] [[ 1.07499213  5.85685648]\n",
      " [ 2.22864219  2.45133965]\n",
      " [-1.22344612  0.84643644]] [[[ 0.68405518  0.17863387]\n",
      "  [ 0.17863387  1.3030211 ]]\n",
      "\n",
      " [[ 5.86816538  2.66859884]\n",
      "  [ 2.66859884  5.09531312]]\n",
      "\n",
      " [[ 0.02252806 -0.06231391]\n",
      "  [-0.06231391  0.97861765]]] -1150.50540763\n"
     ]
    }
   ],
   "source": [
    "pi, mu, sigma = pi0, mu0, sigma0\n",
    "gamma = E_step(X, pi, mu, sigma)\n",
    "pi, mu, sigma = M_step(X, gamma)\n",
    "loss = compute_vlb(X, pi, mu, sigma, gamma)\n",
    "gamma = E_step(X, pi, mu, sigma)\n",
    "pi, mu, sigma = M_step(X, gamma)\n",
    "loss = compute_vlb(X, pi, mu, sigma, gamma)\n",
    "gamma = E_step(X, pi, mu, sigma)\n",
    "pi, mu, sigma = M_step(X, gamma)\n",
    "loss = compute_vlb(X, pi, mu, sigma, gamma)\n",
    "gamma = E_step(X, pi, mu, sigma)\n",
    "pi, mu, sigma = M_step(X, gamma)\n",
    "loss = compute_vlb(X, pi, mu, sigma, gamma)\n",
    "print(pi, mu, sigma , loss)"
   ]
  },
  {
   "cell_type": "markdown",
   "metadata": {},
   "source": [
    "### Bringing it all together"
   ]
  },
  {
   "cell_type": "markdown",
   "metadata": {},
   "source": [
    "Now that we have E step, M step and VLB, we can implement training loop. We will start at random values of $\\pi$, $\\mu$ and $\\Sigma$, train until $\\mathcal{L}$ stops changing and return the resulting points. We also know that EM algorithm sometimes stops at local optima. To avoid this we should restart algorithm multiple times from different starting positions. Each training trial should stop either when maximum number of iterations is reached or when relative improvement is smaller than given tolerance ($|\\frac{\\mathcal{L_i}}{\\mathcal{L_{i-1}}}| \\le \\text{rtol}$).\n",
    "\n",
    "Remember, that values of $\\pi$ that you generate must be non-negative and sum up to 1. Also, $\\Sigma$ matrices must be symmetric and positive semi-definite. If you don't know how to generate those matrices, you can use $\\Sigma=I$ as initialization.\n",
    "\n",
    "You will also sometimes get numerical errors because of component collapsing. The easiest way to deal with this problems is to simply restart the procedure.\n",
    "\n",
    "<b>Task 4:</b> Implement training procedure"
   ]
  },
  {
   "cell_type": "code",
   "execution_count": 46,
   "metadata": {},
   "outputs": [],
   "source": [
    "import math\n",
    "def train_EM(X, C, rtol=1e-3, max_iter=100, restarts=10, verbose=False):\n",
    "    '''\n",
    "    Starts with random initialization *restarts* times\n",
    "    Runs optimization until saturation with *rtol* reached\n",
    "    or *max_iter* iterations were made.\n",
    "    \n",
    "    X: (N, d), data points\n",
    "    C: int, number of clusters\n",
    "    '''\n",
    "    N = X.shape[0] # number of objects\n",
    "    d = X.shape[1] # dimension of each object\n",
    "    best_loss = -9999999\n",
    "    best_pi = None\n",
    "    best_mu = None\n",
    "    best_sigma = None\n",
    "\n",
    "    for _ in range(restarts):\n",
    "        try:\n",
    "            pi = np.array([1.0/C]*C,dtype=np.float32)\n",
    "            mu = np.random.rand(C, d)\n",
    "            sigma_ = np.random.rand(C, d, d)\n",
    "            sigma = np.array([np.dot(A, A.T) for A in sigma_])\n",
    "            prev_loss = None\n",
    "            for i in range(max_iter):\n",
    "                gamma = E_step(X, pi, mu, sigma)\n",
    "                pi, mu, sigma = M_step(X, gamma)\n",
    "                loss = compute_vlb(X, pi, mu, sigma, gamma)\n",
    "                if not math.isnan(loss) and loss > best_loss:\n",
    "                    best_loss = loss\n",
    "                    best_mu = mu\n",
    "                    best_pi = pi\n",
    "                    best_sigma = sigma\n",
    "                if verbose:\n",
    "                    print(\"Iteration {}, loss: {}\".format(i, loss))\n",
    "\n",
    "                if prev_loss is not None:\n",
    "                    diff = np.abs(loss - prev_loss)\n",
    "                    if diff < rtol:\n",
    "                        break\n",
    "                prev_loss = loss\n",
    "\n",
    "        except np.linalg.LinAlgError:\n",
    "            print(\"Singular matrix: components collapsed\")\n",
    "            pass\n",
    "        except Exception as e:\n",
    "            print(e)\n",
    "            print(sigma, mu, pi)\n",
    "\n",
    "    return best_loss, best_pi, best_mu, best_sigma"
   ]
  },
  {
   "cell_type": "code",
   "execution_count": 47,
   "metadata": {},
   "outputs": [
    {
     "name": "stdout",
     "output_type": "stream",
     "text": [
      "Iteration 0, loss: -1165.1730109864423\n",
      "Iteration 1, loss: -1114.9810590724212\n",
      "Iteration 2, loss: -1107.0960705625405\n",
      "Iteration 3, loss: -1101.7802496163738\n",
      "Iteration 4, loss: -1096.7026058540343\n",
      "Iteration 5, loss: -1091.7643339578763\n",
      "Iteration 6, loss: -1087.2915514021688\n",
      "Iteration 7, loss: -1082.9218162486834\n",
      "Iteration 8, loss: -1078.5069429677392\n",
      "Iteration 9, loss: -1074.1847458907675\n",
      "Iteration 10, loss: -1070.342547595304\n",
      "Iteration 11, loss: -1067.4226356278564\n",
      "Iteration 12, loss: -1065.597219788254\n",
      "Iteration 13, loss: -1064.6396955071004\n",
      "Iteration 14, loss: -1064.1867090809667\n",
      "Iteration 15, loss: -1063.9797629382224\n",
      "Iteration 16, loss: -1063.885275188465\n",
      "Iteration 17, loss: -1063.8417307789528\n",
      "Iteration 18, loss: -1063.8214672281524\n",
      "Iteration 19, loss: -1063.8119631859406\n",
      "Iteration 20, loss: -1063.8074794271527\n",
      "Iteration 21, loss: -1063.8053551598334\n",
      "Iteration 22, loss: -1063.80434573217\n",
      "Iteration 23, loss: -1063.803865059205\n",
      "Iteration 0, loss: -1327.8268416731264\n",
      "Iteration 1, loss: -1182.6863371405962\n",
      "Iteration 2, loss: -1161.5759661053216\n",
      "Iteration 3, loss: -1149.102244217947\n",
      "Iteration 4, loss: -1141.4135483998068\n",
      "Iteration 5, loss: -1135.2236973489103\n",
      "Iteration 6, loss: -1129.2070217105152\n",
      "Iteration 7, loss: -1123.072735008226\n",
      "Iteration 8, loss: -1116.7295373098289\n",
      "Iteration 9, loss: -1109.9469869209056\n",
      "Iteration 10, loss: -1102.428074947416\n",
      "Iteration 11, loss: -1094.3682173373359\n",
      "Iteration 12, loss: -1087.0567798570125\n",
      "Iteration 13, loss: -1080.6588834326856\n",
      "Iteration 14, loss: -1075.135664218522\n",
      "Iteration 15, loss: -1071.0713797923677\n",
      "Iteration 16, loss: -1068.3298422777948\n",
      "Iteration 17, loss: -1066.6512512463134\n",
      "Iteration 18, loss: -1065.4912012957038\n",
      "Iteration 19, loss: -1064.6531937626764\n",
      "Iteration 20, loss: -1064.1394274338338\n",
      "Iteration 21, loss: -1063.9071531069872\n",
      "Iteration 22, loss: -1063.8304301641228\n",
      "Iteration 23, loss: -1063.8099325159415\n",
      "Iteration 24, loss: -1063.8049595068237\n",
      "Iteration 25, loss: -1063.8037886241887\n",
      "Iteration 26, loss: -1063.8035136084943\n",
      "Iteration 0, loss: -1274.4905446235016\n",
      "Iteration 1, loss: -1179.103027700501\n",
      "Iteration 2, loss: -1165.9101864398215\n",
      "Iteration 3, loss: -1153.2436868504954\n",
      "Iteration 4, loss: -1141.8892515774046\n",
      "Iteration 5, loss: -1136.0148520265911\n",
      "Iteration 6, loss: -1134.3222698169673\n",
      "Iteration 7, loss: -1133.838484706222\n",
      "Iteration 8, loss: -1133.2876866973563\n",
      "Iteration 9, loss: -1132.0197415678674\n",
      "Iteration 10, loss: -1129.328637156013\n",
      "Iteration 11, loss: -1127.8021648740937\n",
      "Iteration 12, loss: -1127.63431768363\n",
      "Iteration 13, loss: -1127.6333176360406\n",
      "Iteration 14, loss: -1127.6332715069766\n",
      "Iteration 0, loss: -1172.0387403066934\n",
      "Iteration 1, loss: -1143.6019586417922\n",
      "Iteration 2, loss: -1138.8081011399581\n",
      "Iteration 3, loss: -1134.7884728962024\n",
      "Iteration 4, loss: -1130.2758540605128\n",
      "Iteration 5, loss: -1125.3066296358124\n",
      "Iteration 6, loss: -1121.9398214061137\n",
      "Iteration 7, loss: -1120.2596163660799\n",
      "Iteration 8, loss: -1119.2176275877648\n",
      "Iteration 9, loss: -1118.3864460690334\n",
      "Iteration 10, loss: -1117.6788359362736\n",
      "Iteration 11, loss: -1117.1277521598442\n",
      "Iteration 12, loss: -1116.7508294476738\n",
      "Iteration 13, loss: -1116.4947022218698\n",
      "Iteration 14, loss: -1116.3006655933389\n",
      "Iteration 15, loss: -1116.146398259529\n",
      "Iteration 16, loss: -1116.031816249607\n",
      "Iteration 17, loss: -1115.954488681084\n",
      "Iteration 18, loss: -1115.900258991853\n",
      "Iteration 19, loss: -1115.853857104102\n",
      "Iteration 20, loss: -1115.806850340238\n",
      "Iteration 21, loss: -1115.7559735369055\n",
      "Iteration 22, loss: -1115.7002061290664\n",
      "Iteration 23, loss: -1115.6395892697485\n",
      "Iteration 24, loss: -1115.5749508748584\n",
      "Iteration 25, loss: -1115.5077208361415\n",
      "Iteration 26, loss: -1115.4394915253722\n",
      "Iteration 27, loss: -1115.3713290800356\n",
      "Iteration 28, loss: -1115.30308232799\n",
      "Iteration 29, loss: -1115.2328893155345\n",
      "Iteration 30, loss: -1115.156721409676\n",
      "Iteration 31, loss: -1115.067360730521\n",
      "Iteration 32, loss: -1114.9516649134666\n",
      "Iteration 33, loss: -1114.7837400602157\n",
      "Iteration 34, loss: -1114.509052915403\n",
      "Iteration 35, loss: -1114.0136154388565\n",
      "Iteration 36, loss: -1113.0862149506827\n",
      "Iteration 37, loss: -1111.4707562593983\n",
      "Iteration 38, loss: -1109.4884742550655\n",
      "Iteration 39, loss: -1107.5217295064247\n",
      "Iteration 40, loss: -1105.1250514924577\n",
      "Iteration 41, loss: -1102.4762171009813\n",
      "Iteration 42, loss: -1099.3478491086148\n",
      "Iteration 43, loss: -1095.4066333086228\n",
      "Iteration 44, loss: -1090.978636326172\n",
      "Iteration 45, loss: -1086.189880888974\n",
      "Iteration 46, loss: -1081.0796495154711\n",
      "Iteration 47, loss: -1076.0863016968424\n",
      "Iteration 48, loss: -1071.7343185456639\n",
      "Iteration 49, loss: -1068.356113957404\n",
      "Iteration 50, loss: -1066.11679470135\n",
      "Iteration 51, loss: -1064.8866237581244\n",
      "Iteration 52, loss: -1064.296797132202\n",
      "Iteration 53, loss: -1064.028677454471\n",
      "Iteration 54, loss: -1063.9073378026978\n",
      "Iteration 55, loss: -1063.8518421010003\n",
      "Iteration 56, loss: -1063.8261608692142\n",
      "Iteration 57, loss: -1063.8141625002852\n",
      "Iteration 58, loss: -1063.8085168155665\n",
      "Iteration 59, loss: -1063.8058467258013\n",
      "Iteration 60, loss: -1063.8045793871825\n",
      "Iteration 61, loss: -1063.8039763553525\n",
      "Iteration 0, loss: -1234.3025117350762\n",
      "Iteration 1, loss: -1167.0451711953244\n",
      "Iteration 2, loss: -1158.0688061135604\n",
      "Iteration 3, loss: -1152.2155012929784\n",
      "Iteration 4, loss: -1147.341412107782\n",
      "Iteration 5, loss: -1143.5020402389264\n",
      "Iteration 6, loss: -1140.5494940217327\n",
      "Iteration 7, loss: -1138.2853718603394\n",
      "Iteration 8, loss: -1136.5694808542376\n",
      "Iteration 9, loss: -1135.294920535009\n",
      "Iteration 10, loss: -1134.3741087554777\n",
      "Iteration 11, loss: -1133.712479881669\n",
      "Iteration 12, loss: -1133.2183196987583\n",
      "Iteration 13, loss: -1132.8166512582036\n",
      "Iteration 14, loss: -1132.4480449949467\n",
      "Iteration 15, loss: -1132.0585506468733\n",
      "Iteration 16, loss: -1131.5856387560452\n",
      "Iteration 17, loss: -1130.9413594871828\n",
      "Iteration 18, loss: -1130.0052507325204\n",
      "Iteration 19, loss: -1128.6946634235724\n",
      "Iteration 20, loss: -1127.2048898839184\n",
      "Iteration 21, loss: -1125.976391978437\n",
      "Iteration 22, loss: -1125.0034058552794\n",
      "Iteration 23, loss: -1123.950555295593\n",
      "Iteration 24, loss: -1122.5113737034924\n",
      "Iteration 25, loss: -1120.7643567052019\n",
      "Iteration 26, loss: -1119.0095523502737\n",
      "Iteration 27, loss: -1117.510890123183\n",
      "Iteration 28, loss: -1116.4510439231515\n",
      "Iteration 29, loss: -1115.7819787081135\n",
      "Iteration 30, loss: -1115.3654874235974\n",
      "Iteration 31, loss: -1115.0869480873694\n",
      "Iteration 32, loss: -1114.8795303057843\n",
      "Iteration 33, loss: -1114.7140440075545\n",
      "Iteration 34, loss: -1114.5783777489573\n",
      "Iteration 35, loss: -1114.464871050303\n",
      "Iteration 36, loss: -1114.3665459985996\n",
      "Iteration 37, loss: -1114.2768080674948\n",
      "Iteration 38, loss: -1114.1893162226916\n",
      "Iteration 39, loss: -1114.0971270388875\n",
      "Iteration 40, loss: -1113.9908221686142\n",
      "Iteration 41, loss: -1113.854711483374\n",
      "Iteration 42, loss: -1113.6587105545611\n",
      "Iteration 43, loss: -1113.3415382405583\n",
      "Iteration 44, loss: -1112.7834651249802\n",
      "Iteration 45, loss: -1111.781243637045\n",
      "Iteration 46, loss: -1110.1281772831696\n",
      "Iteration 47, loss: -1108.1820971819914\n",
      "Iteration 48, loss: -1105.9979398843404\n",
      "Iteration 49, loss: -1103.231152006305\n",
      "Iteration 50, loss: -1100.1836584451187\n",
      "Iteration 51, loss: -1096.4313609226097\n",
      "Iteration 52, loss: -1092.1329168865382\n",
      "Iteration 53, loss: -1087.5061293615793\n",
      "Iteration 54, loss: -1082.4566146194636\n",
      "Iteration 55, loss: -1077.3160170691212\n",
      "Iteration 56, loss: -1072.714371218877\n",
      "Iteration 57, loss: -1069.062009129273\n",
      "Iteration 58, loss: -1066.5461847741497\n",
      "Iteration 59, loss: -1065.1052654577952\n",
      "Iteration 60, loss: -1064.397765792817\n",
      "Iteration 61, loss: -1064.0742044848696\n",
      "Iteration 62, loss: -1063.92800091901\n",
      "Iteration 63, loss: -1063.861338836584\n",
      "Iteration 64, loss: -1063.830574649686\n",
      "Iteration 65, loss: -1063.816231527684\n",
      "Iteration 66, loss: -1063.8094927507943\n",
      "Iteration 67, loss: -1063.8063090918736\n",
      "Iteration 68, loss: -1063.8047991137153\n",
      "Iteration 69, loss: -1063.8040809950237\n",
      "Iteration 0, loss: -1141.9458516446457\n",
      "Iteration 1, loss: -1135.8820792684264\n",
      "Iteration 2, loss: -1130.4650173403088\n",
      "Iteration 3, loss: -1124.5924306112624\n",
      "Iteration 4, loss: -1120.3327144915784\n",
      "Iteration 5, loss: -1117.575944887217\n",
      "Iteration 6, loss: -1115.6883647931631\n",
      "Iteration 7, loss: -1114.2019543913652\n",
      "Iteration 8, loss: -1112.8051943779976\n",
      "Iteration 9, loss: -1111.3574485764623\n",
      "Iteration 10, loss: -1109.686324276047\n",
      "Iteration 11, loss: -1107.4614764953942\n",
      "Iteration 12, loss: -1104.5643592779852\n"
     ]
    },
    {
     "name": "stdout",
     "output_type": "stream",
     "text": [
      "Iteration 13, loss: -1100.6412885907257\n",
      "Iteration 14, loss: -1094.236330719334\n",
      "Iteration 15, loss: -1085.753187737987\n",
      "Iteration 16, loss: -1076.9963042876561\n",
      "Iteration 17, loss: -1069.8582019266732\n",
      "Iteration 18, loss: -1066.5058226698306\n",
      "Iteration 19, loss: -1065.0514824089348\n",
      "Iteration 20, loss: -1064.3740342979006\n",
      "Iteration 21, loss: -1064.063453872291\n",
      "Iteration 22, loss: -1063.9229840805815\n",
      "Iteration 23, loss: -1063.8590076084402\n",
      "Iteration 24, loss: -1063.829494475197\n",
      "Iteration 25, loss: -1063.8157291538676\n",
      "Iteration 26, loss: -1063.8092575802314\n",
      "Iteration 27, loss: -1063.806198308546\n",
      "Iteration 28, loss: -1063.804746665999\n",
      "Iteration 29, loss: -1063.8040560765753\n",
      "Iteration 0, loss: -1220.3168303610505\n",
      "Iteration 1, loss: -1213.374968852096\n",
      "Iteration 2, loss: -1211.5399972247253\n",
      "Iteration 3, loss: -1210.5737173563464\n",
      "Iteration 4, loss: -1209.5717639150253\n",
      "Iteration 5, loss: -1208.201887769411\n",
      "Iteration 6, loss: -1206.256920558482\n",
      "Iteration 7, loss: -1202.8120024458565\n",
      "Iteration 8, loss: -1201.0980915595876\n",
      "Iteration 9, loss: -1200.6451571679054\n",
      "Iteration 10, loss: -1200.3402910123496\n",
      "Iteration 11, loss: -1200.099580377649\n",
      "Iteration 12, loss: -1199.8912042370612\n",
      "Iteration 13, loss: -1199.7074367059524\n",
      "Iteration 14, loss: -1199.5484999498779\n",
      "Iteration 15, loss: -1199.4135146926205\n",
      "Iteration 16, loss: -1199.2971030128163\n",
      "Iteration 17, loss: -1199.1903798453952\n",
      "Iteration 18, loss: -1199.0825863531456\n",
      "Iteration 19, loss: -1198.960462037225\n",
      "Iteration 20, loss: -1198.8044250930416\n",
      "Iteration 21, loss: -1198.579991569324\n",
      "Iteration 22, loss: -1198.220246118942\n",
      "Iteration 23, loss: -1197.5948669575603\n",
      "Iteration 24, loss: -1196.4807111014718\n",
      "Iteration 25, loss: -1194.5990559278077\n",
      "Iteration 26, loss: -1191.6802531515432\n",
      "Iteration 27, loss: -1187.2117764000207\n",
      "Iteration 28, loss: -1181.055917383063\n",
      "Iteration 29, loss: -1174.7309743385829\n",
      "Iteration 30, loss: -1168.401378628828\n",
      "Iteration 31, loss: -1162.0670074574552\n",
      "Iteration 32, loss: -1156.395259910763\n",
      "Iteration 33, loss: -1152.350602328902\n",
      "Iteration 34, loss: -1150.2395692679236\n",
      "Iteration 35, loss: -1149.395053522285\n",
      "Iteration 36, loss: -1149.09555640206\n",
      "Iteration 37, loss: -1148.990482307062\n",
      "Iteration 38, loss: -1148.9527164288102\n",
      "Iteration 39, loss: -1148.9388037849205\n",
      "Iteration 40, loss: -1148.9335853729929\n",
      "Iteration 41, loss: -1148.9316044644806\n",
      "Iteration 42, loss: -1148.9308467306275\n",
      "Iteration 0, loss: -1160.1396972035877\n",
      "Iteration 1, loss: -1139.1373728636515\n",
      "Iteration 2, loss: -1133.3940189311559\n",
      "Iteration 3, loss: -1129.8942095324114\n",
      "Iteration 4, loss: -1126.2035925607343\n",
      "Iteration 5, loss: -1120.2129921334906\n",
      "Iteration 6, loss: -1114.7814617821614\n",
      "Iteration 7, loss: -1111.3186626989661\n",
      "Iteration 8, loss: -1108.6109347698846\n",
      "Iteration 9, loss: -1107.0138315878316\n",
      "Iteration 10, loss: -1105.3744119439261\n",
      "Iteration 11, loss: -1102.847544432685\n",
      "Iteration 12, loss: -1098.8590456624227\n",
      "Iteration 13, loss: -1093.7543005612954\n",
      "Iteration 14, loss: -1088.7081497920087\n",
      "Iteration 15, loss: -1083.9303996272286\n",
      "Iteration 16, loss: -1079.269654330286\n",
      "Iteration 17, loss: -1074.8018240898052\n",
      "Iteration 18, loss: -1070.8302614841818\n",
      "Iteration 19, loss: -1067.7518889856187\n",
      "Iteration 20, loss: -1065.7758804011835\n",
      "Iteration 21, loss: -1064.7231723053912\n",
      "Iteration 22, loss: -1064.2238503415929\n",
      "Iteration 23, loss: -1063.996316737299\n",
      "Iteration 24, loss: -1063.8927588475483\n",
      "Iteration 25, loss: -1063.845163377225\n",
      "Iteration 26, loss: -1063.8230607382282\n",
      "Iteration 27, loss: -1063.8127097544375\n",
      "Iteration 28, loss: -1063.807831527211\n",
      "Iteration 29, loss: -1063.8055219906073\n",
      "Iteration 30, loss: -1063.8044250300768\n",
      "Iteration 31, loss: -1063.8039028313574\n",
      "Iteration 0, loss: -1289.3988373730858\n",
      "Iteration 1, loss: -1208.0329400118997\n",
      "Iteration 2, loss: -1190.9135167925413\n",
      "Iteration 3, loss: -1178.4000097762041\n",
      "Iteration 4, loss: -1169.2482518225236\n",
      "Iteration 5, loss: -1161.7998837058046\n",
      "Iteration 6, loss: -1155.0348818860416\n",
      "Iteration 7, loss: -1148.7311546411486\n",
      "Iteration 8, loss: -1142.5441046031635\n",
      "Iteration 9, loss: -1136.1788913915414\n",
      "Iteration 10, loss: -1129.7831521014753\n",
      "Iteration 11, loss: -1124.209766286976\n",
      "Iteration 12, loss: -1120.4033231219933\n",
      "Iteration 13, loss: -1118.3647293374747\n",
      "Iteration 14, loss: -1117.3488943146685\n",
      "Iteration 15, loss: -1116.8197473041419\n",
      "Iteration 16, loss: -1116.5425123728662\n",
      "Iteration 17, loss: -1116.3965664038951\n",
      "Iteration 18, loss: -1116.3143250662883\n",
      "Iteration 19, loss: -1116.2603675208552\n",
      "Iteration 20, loss: -1116.2165886533614\n",
      "Iteration 21, loss: -1116.17298851753\n",
      "Iteration 22, loss: -1116.1227710700605\n",
      "Iteration 23, loss: -1116.059718954771\n",
      "Iteration 24, loss: -1115.9764626643657\n",
      "Iteration 25, loss: -1115.862658141239\n",
      "Iteration 26, loss: -1115.7017595910897\n",
      "Iteration 27, loss: -1115.463431907949\n",
      "Iteration 28, loss: -1115.0839262004347\n",
      "Iteration 29, loss: -1114.4183505054975\n",
      "Iteration 30, loss: -1113.1940927834955\n",
      "Iteration 31, loss: -1111.226172237504\n",
      "Iteration 32, loss: -1108.2988494708982\n",
      "Iteration 33, loss: -1103.7890940841771\n",
      "Iteration 34, loss: -1098.9913394337439\n",
      "Iteration 35, loss: -1095.2844873743677\n",
      "Iteration 36, loss: -1092.288325631079\n",
      "Iteration 37, loss: -1089.6940831134941\n",
      "Iteration 38, loss: -1087.349054808843\n",
      "Iteration 39, loss: -1085.1570101165341\n",
      "Iteration 40, loss: -1082.9793145211454\n",
      "Iteration 41, loss: -1080.583469154036\n",
      "Iteration 42, loss: -1077.5236177650238\n",
      "Iteration 43, loss: -1073.0603723811246\n",
      "Iteration 44, loss: -1068.1160169902337\n",
      "Iteration 45, loss: -1065.7003267506218\n",
      "Iteration 46, loss: -1064.7945496093591\n",
      "Iteration 47, loss: -1064.2665374066955\n",
      "Iteration 48, loss: -1063.9817409483617\n",
      "Iteration 49, loss: -1063.8639342111953\n",
      "Iteration 50, loss: -1063.823940519056\n",
      "Iteration 51, loss: -1063.8109917837985\n",
      "Iteration 52, loss: -1063.8065015707512\n",
      "Iteration 53, loss: -1063.8047698575926\n",
      "Iteration 54, loss: -1063.804039262575\n",
      "Iteration 0, loss: -1216.190511065827\n",
      "Iteration 1, loss: -1151.1403486855986\n",
      "Iteration 2, loss: -1135.5882563059665\n",
      "Iteration 3, loss: -1124.9636913067943\n",
      "Iteration 4, loss: -1117.9337417835584\n",
      "Iteration 5, loss: -1110.493723703209\n",
      "Iteration 6, loss: -1102.0704778919169\n",
      "Iteration 7, loss: -1094.915739632244\n",
      "Iteration 8, loss: -1088.6400501830951\n",
      "Iteration 9, loss: -1082.9955983807408\n",
      "Iteration 10, loss: -1077.8433037378327\n",
      "Iteration 11, loss: -1073.2648631542768\n",
      "Iteration 12, loss: -1069.5253916263823\n",
      "Iteration 13, loss: -1066.8584729564102\n",
      "Iteration 14, loss: -1065.2770159372656\n",
      "Iteration 15, loss: -1064.481012985886\n",
      "Iteration 16, loss: -1064.1127227891016\n",
      "Iteration 17, loss: -1063.945709688136\n",
      "Iteration 18, loss: -1063.8695285265837\n",
      "Iteration 19, loss: -1063.834391826942\n",
      "Iteration 20, loss: -1063.8180229978207\n",
      "Iteration 21, loss: -1063.8103380851928\n",
      "Iteration 22, loss: -1063.8067095928268\n",
      "Iteration 23, loss: -1063.8049894193264\n",
      "Iteration 24, loss: -1063.8041716106795\n",
      "Current answer for task Task 4 (EM) is: -1063.80351361\n"
     ]
    }
   ],
   "source": [
    "best_loss, best_pi, best_mu, best_sigma = train_EM(X, 3, verbose=True)\n",
    "grader.submit_EM(best_loss)"
   ]
  },
  {
   "cell_type": "markdown",
   "metadata": {},
   "source": [
    "If you implemented all the steps correctly, your algorithm should converge in about 20 iterations. Let's plot the clusters to see it. We will assign a cluster label as the most probable cluster index. This can be found using matrix $\\gamma$ computed on last E-step. \n"
   ]
  },
  {
   "cell_type": "code",
   "execution_count": 48,
   "metadata": {},
   "outputs": [
    {
     "data": {
      "image/png": "[encoded data removed]",
      "text/plain": [
       "<matplotlib.figure.Figure at 0x10fb850b8>"
      ]
     },
     "metadata": {},
     "output_type": "display_data"
    }
   ],
   "source": [
    "gamma = E_step(X, best_pi, best_mu, best_sigma)\n",
    "labels = gamma.argmax(1)\n",
    "plt.scatter(X[:, 0], X[:, 1], c=labels, s=30)\n",
    "plt.axis('equal')\n",
    "plt.show()"
   ]
  },
  {
   "cell_type": "markdown",
   "metadata": {},
   "source": [
    "### Authorization & Submission\n",
    "To submit assignment parts to Cousera platform, please, enter your e-mail and your token into variables below. You can generate the token on this programming assignment page. <b>Note:</b> Token expires 30 minutes after generation."
   ]
  },
  {
   "cell_type": "code",
   "execution_count": 49,
   "metadata": {},
   "outputs": [
    {
     "name": "stdout",
     "output_type": "stream",
     "text": [
      "You want to submit these numbers:\n",
      "Task Task 1 (E-step): 0.533717874108\n",
      "Task Task 2 (M-step: mu): 2.89939188205\n",
      "Task Task 2 (M-step: sigma): 5.9771052169\n",
      "Task Task 2 (M-step: pi): 0.550762445922\n",
      "Task Task 3 (VLB): -1213.97346553\n",
      "Task Task 4 (EM): -1063.80351361\n"
     ]
    }
   ],
   "source": [
    "STUDENT_EMAIL = \"\"\n",
    "STUDENT_TOKEN = \"\"\n",
    "grader.status()"
   ]
  },
  {
   "cell_type": "markdown",
   "metadata": {},
   "source": [
    "If you want to submit these answers, run cell below"
   ]
  },
  {
   "cell_type": "code",
   "execution_count": 50,
   "metadata": {},
   "outputs": [
    {
     "name": "stdout",
     "output_type": "stream",
     "text": [
      "Submitted to Coursera platform. See results on assignment page!\n"
     ]
    }
   ],
   "source": [
    "grader.submit(STUDENT_EMAIL, STUDENT_TOKEN)"
   ]
  }
 ],
 "metadata": {
  "kernelspec": {
   "display_name": "Python 3",
   "language": "python",
   "name": "python3"
  },
  "language_info": {
   "codemirror_mode": {
    "name": "ipython",
    "version": 3
   },
   "file_extension": ".py",
   "mimetype": "text/x-python",
   "name": "python",
   "nbconvert_exporter": "python",
   "pygments_lexer": "ipython3",
   "version": "3.6.3"
  },
  "latex_envs": {
   "bibliofile": "biblio.bib",
   "cite_by": "apalike",
   "current_citInitial": 1,
   "eqLabelWithNumbers": true,
   "eqNumInitial": 0
  }
 },
 "nbformat": 4,
 "nbformat_minor": 2
}
