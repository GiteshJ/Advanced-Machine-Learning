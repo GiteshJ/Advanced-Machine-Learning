{
 "cells": [
  {
   "cell_type": "markdown",
   "metadata": {
    "_uuid": "b69932efb440af8f6435f3cd802fbcd15682af71",
    "collapsed": true
   },
   "source": [
    "# Part 2, xgboost"
   ]
  },
  {
   "cell_type": "code",
   "execution_count": null,
   "metadata": {
    "_uuid": "a54364495b1818e9f069efa0c53500bf9e21d5f9",
    "collapsed": true
   },
   "outputs": [],
   "source": [
    "import numpy as np\n",
    "import pandas as pd\n",
    "import gc\n",
    "import pickle\n",
    "import time\n",
    "import os\n",
    "print(os.listdir(\"../input\"))\n",
    "from xgboost import XGBRegressor"
   ]
  },
  {
   "cell_type": "code",
   "execution_count": null,
   "metadata": {
    "_uuid": "bfc928a916bb8b285b2fe90fb1a311cf2fbbf2e3",
    "collapsed": true
   },
   "outputs": [],
   "source": [
    "data = pd.read_pickle('../input/predict-future-sales-feature-engineering-xgb-15/feature.pickle')"
   ]
  },
  {
   "cell_type": "code",
   "execution_count": null,
   "metadata": {
    "_uuid": "511c64efaa72a8c9b2febb1c3e675b1497273e40",
    "collapsed": true
   },
   "outputs": [],
   "source": [
    "print('\\n'.join(data.columns))\n",
    "print(data.shape)"
   ]
  },
  {
   "cell_type": "markdown",
   "metadata": {},
   "source": [
    "#### Removing some irrelevant features that led to overfitting when previously trained"
   ]
  },
  {
   "cell_type": "code",
   "execution_count": null,
   "metadata": {
    "_uuid": "f9ee6c6e5c7a411d445c293a2e90c68a590f8eb4",
    "collapsed": true
   },
   "outputs": [],
   "source": [
    "data = data[['date_block_num',\n",
    "'date_cat_avg_item_cnt_lag_1',\n",
    "'date_cat_avg_item_cnt_lag_12',\n",
    "'date_cat_avg_item_cnt_lag_2',\n",
    "'date_cat_avg_item_cnt_lag_3',\n",
    "'date_cat_avg_item_cnt_lag_6',\n",
    "'date_cat_avg_item_price_lag_1',\n",
    "'date_cat_avg_item_price_lag_12',\n",
    "'date_cat_avg_item_price_lag_2',\n",
    "'date_cat_avg_item_price_lag_3',\n",
    "'date_cat_avg_item_price_lag_6',\n",
    "'date_cat_sum_orders_lag_1',\n",
    "'date_cat_sum_orders_lag_12',\n",
    "'date_cat_sum_orders_lag_2',\n",
    "'date_cat_sum_orders_lag_3',\n",
    "'date_cat_sum_orders_lag_6',\n",
    "'date_item_avg_item_cnt_lag_1',\n",
    "'date_item_avg_item_cnt_lag_12',\n",
    "'date_item_avg_item_cnt_lag_2',\n",
    "'date_item_avg_item_cnt_lag_3',\n",
    "'date_item_avg_item_cnt_lag_6',\n",
    "'date_item_avg_item_price_lag_1',\n",
    "'date_item_avg_item_price_lag_12',\n",
    "'date_item_avg_item_price_lag_2',\n",
    "'date_item_avg_item_price_lag_3',\n",
    "'date_item_avg_item_price_lag_6',\n",
    "'date_item_sum_orders_lag_1',\n",
    "'date_item_sum_orders_lag_12',\n",
    "'date_item_sum_orders_lag_2',\n",
    "'date_item_sum_orders_lag_3',\n",
    "'date_item_sum_orders_lag_6',\n",
    "'date_shop_avg_item_cnt_lag_1',\n",
    "'date_shop_avg_item_cnt_lag_12',\n",
    "'date_shop_avg_item_cnt_lag_2',\n",
    "'date_shop_avg_item_cnt_lag_3',\n",
    "'date_shop_avg_item_cnt_lag_6',\n",
    "'date_shop_avg_item_price_lag_1',\n",
    "'date_shop_avg_item_price_lag_12',\n",
    "'date_shop_avg_item_price_lag_2',\n",
    "'date_shop_avg_item_price_lag_3',\n",
    "'date_shop_avg_item_price_lag_6',\n",
    "'date_shop_sum_orders_lag_1',\n",
    "'date_shop_sum_orders_lag_12',\n",
    "'date_shop_sum_orders_lag_2',\n",
    "'date_shop_sum_orders_lag_3',\n",
    "'date_shop_sum_orders_lag_6',\n",
    "'item_cnt_month',\n",
    "'item_cnt_month_lag_1',\n",
    "'item_cnt_month_lag_12',\n",
    "'item_cnt_month_lag_2',\n",
    "'item_cnt_month_lag_3',\n",
    "'item_cnt_month_lag_6',\n",
    "'item_monthly_mean_lag_1',\n",
    "'item_monthly_mean_lag_12',\n",
    "'item_monthly_mean_lag_2',\n",
    "'item_monthly_mean_lag_3',\n",
    "'item_monthly_mean_lag_6',\n",
    "'orders_lag_1',\n",
    "'orders_lag_12',\n",
    "'orders_lag_2',\n",
    "'orders_lag_3',\n",
    "'orders_lag_6',\n",
    "'shop_item_avg_item_cnt_lag_1',\n",
    "'shop_item_avg_item_cnt_lag_12',\n",
    "'shop_item_avg_item_cnt_lag_2',\n",
    "'shop_item_avg_item_cnt_lag_3',\n",
    "'shop_item_avg_item_cnt_lag_6',\n",
    "'shop_item_avg_item_price_lag_1',\n",
    "'shop_item_avg_item_price_lag_12',\n",
    "'shop_item_avg_item_price_lag_2',\n",
    "'shop_item_avg_item_price_lag_3',\n",
    "'shop_item_avg_item_price_lag_6',\n",
    "'shop_item_monthly_mean_lag_1',\n",
    "'shop_item_monthly_mean_lag_12',\n",
    "'shop_item_monthly_mean_lag_2',\n",
    "'shop_item_monthly_mean_lag_3',\n",
    "'shop_item_monthly_mean_lag_6',\n",
    "'shop_item_sum_orders_lag_1',\n",
    "'shop_item_sum_orders_lag_12',\n",
    "'shop_item_sum_orders_lag_2',\n",
    "'shop_item_sum_orders_lag_3',\n",
    "'shop_item_sum_orders_lag_6',\n",
    "'shop_monthly_mean_lag_1',\n",
    "'shop_monthly_mean_lag_12',\n",
    "'shop_monthly_mean_lag_2',\n",
    "'shop_monthly_mean_lag_3',\n",
    "'shop_monthly_mean_lag_6',\n",
    "'month'\n",
    "            ]]"
   ]
  },
  {
   "cell_type": "code",
   "execution_count": null,
   "metadata": {
    "_uuid": "23e8525a299ffc7bcccb64486614e8d38abf55a8",
    "collapsed": true
   },
   "outputs": [],
   "source": [
    "print('\\n'.join(data.columns))\n",
    "print(data.shape)"
   ]
  },
  {
   "cell_type": "markdown",
   "metadata": {},
   "source": [
    "#### Diviidng data into train, validation and test sets based on date_block_num"
   ]
  },
  {
   "cell_type": "code",
   "execution_count": null,
   "metadata": {
    "_uuid": "9af76d7b80064573a453e5e10c35b76fc31c47a4",
    "collapsed": true
   },
   "outputs": [],
   "source": [
    "X_train = data[data.date_block_num < 33].drop(['item_cnt_month'], axis=1)\n",
    "Y_train = data[data.date_block_num < 33]['item_cnt_month']\n",
    "X_valid = data[data.date_block_num == 33].drop(['item_cnt_month'], axis=1)\n",
    "Y_valid = data[data.date_block_num == 33]['item_cnt_month']\n",
    "X_test = data[data.date_block_num == 34].drop(['item_cnt_month'], axis=1)"
   ]
  },
  {
   "cell_type": "code",
   "execution_count": null,
   "metadata": {
    "_uuid": "c796b1c1fbd138e0ebf3d8992500d9368cbdb7d6",
    "collapsed": true
   },
   "outputs": [],
   "source": [
    "print('\\n',data.columns.values)"
   ]
  },
  {
   "cell_type": "code",
   "execution_count": null,
   "metadata": {
    "_uuid": "6ea5437e8949db6d3e54e68b7b0c18cd0befe38c",
    "collapsed": true
   },
   "outputs": [],
   "source": [
    "del data\n",
    "gc.collect();"
   ]
  },
  {
   "cell_type": "markdown",
   "metadata": {},
   "source": [
    "#### Model declaration and training"
   ]
  },
  {
   "cell_type": "code",
   "execution_count": null,
   "metadata": {
    "_uuid": "acef75c36501f808d45f81fc69f9708fc3283bc3",
    "collapsed": true
   },
   "outputs": [],
   "source": [
    "ts = time.time()\n",
    "\n",
    "model = XGBRegressor(\n",
    "    max_depth=8,\n",
    "    tree_method = 'exact',\n",
    "    min_child_weight=300, \n",
    "    colsample_bytree=0.8, \n",
    "    subsample=0.8, \n",
    "    eta=0.3,    \n",
    "    seed=42)\n",
    "\n",
    "model.fit(\n",
    "    X_train, \n",
    "    Y_train, \n",
    "    eval_metric=\"rmse\", \n",
    "    eval_set=[(X_valid, Y_valid)], \n",
    "    verbose=True, \n",
    "    early_stopping_rounds = 10)\n",
    "\n",
    "time.time() - ts"
   ]
  },
  {
   "cell_type": "code",
   "execution_count": null,
   "metadata": {
    "_uuid": "8ff5a80a22d046c5ca1cb27e938c757b607551d2",
    "collapsed": true
   },
   "outputs": [],
   "source": [
    "Y_pred = model.predict(X_valid).clip(0, 20)\n",
    "Y_test = model.predict(X_test).clip(0, 20)"
   ]
  },
  {
   "cell_type": "code",
   "execution_count": null,
   "metadata": {
    "_uuid": "c585ef82f04d832016539c95bb3547a4980f3ea1",
    "collapsed": true
   },
   "outputs": [],
   "source": [
    "pickle.dump(model, open('xgb_model.pickle', 'wb'))\n",
    "model = pickle.load(open('xgb_model.pickle', 'rb'))"
   ]
  },
  {
   "cell_type": "markdown",
   "metadata": {},
   "source": [
    "#### Plot feature importance"
   ]
  },
  {
   "cell_type": "code",
   "execution_count": null,
   "metadata": {
    "_uuid": "512602dd521d5b9ec70c24409f7b42e74d8a94a2",
    "collapsed": true
   },
   "outputs": [],
   "source": [
    "from xgboost import plot_importance\n",
    "\n",
    "import matplotlib.pyplot as plt\n",
    "%matplotlib inline\n",
    "\n",
    "def plot_features(booster, figsize):    \n",
    "    fig, ax = plt.subplots(1,1,figsize=figsize)\n",
    "    return plot_importance(booster=booster, ax=ax)\n",
    "\n",
    "plot_features(model, (12,42))"
   ]
  },
  {
   "cell_type": "markdown",
   "metadata": {},
   "source": [
    "#### Create submission"
   ]
  },
  {
   "cell_type": "code",
   "execution_count": null,
   "metadata": {
    "_uuid": "c8adc7c93323eb77baeceb2e8db17390b5c4deb3",
    "collapsed": true
   },
   "outputs": [],
   "source": [
    "test = pd.read_csv('../input/competitive-data-science-predict-future-sales/test.csv').set_index('ID')\n",
    "submission = pd.DataFrame({\n",
    "    \"ID\": test.index, \n",
    "    \"item_cnt_month\": Y_test\n",
    "})\n",
    "submission.to_csv('submission.csv', index=False)"
   ]
  },
  {
   "cell_type": "markdown",
   "metadata": {
    "_uuid": "24137d0dff5c3a96582c0c2804b462fb9edcc67f",
    "collapsed": true
   },
   "source": [
    "# Note: Takes considerable amount of time to run. I ran it on kaggle kernel!**"
   ]
  }
 ],
 "metadata": {
  "kernelspec": {
   "display_name": "Python 3",
   "language": "python",
   "name": "python3"
  },
  "language_info": {
   "codemirror_mode": {
    "name": "ipython",
    "version": 3
   },
   "file_extension": ".py",
   "mimetype": "text/x-python",
   "name": "python",
   "nbconvert_exporter": "python",
   "pygments_lexer": "ipython3",
   "version": "3.6.3"
  }
 },
 "nbformat": 4,
 "nbformat_minor": 1
}
