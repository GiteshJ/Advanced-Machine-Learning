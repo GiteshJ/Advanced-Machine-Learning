{
 "cells": [
  {
   "cell_type": "markdown",
   "metadata": {
    "_uuid": "45867577586b500efa9658cf1a11478c4a56baf7"
   },
   "source": [
    "# FINAL PROJECT (PREDICT FUTURE SALES)"
   ]
  },
  {
   "cell_type": "markdown",
   "metadata": {
    "_uuid": "7ba03137efbd75473e320439d694c68ad7b21ab1"
   },
   "source": [
    "## 1.Data Loading and Analysis"
   ]
  },
  {
   "cell_type": "code",
   "execution_count": null,
   "metadata": {
    "_uuid": "6c9427ffd0d34e0a7a431065c4f9359a5013efa9",
    "collapsed": true
   },
   "outputs": [],
   "source": [
    "import os\n",
    "print(os.listdir(\"../input\"))"
   ]
  },
  {
   "cell_type": "code",
   "execution_count": null,
   "metadata": {
    "_uuid": "99f8475bec3fbd75a30184b161341cf9c3a8c967",
    "collapsed": true
   },
   "outputs": [],
   "source": [
    "import numpy as np\n",
    "import pandas as pd\n",
    "from sklearn import *\n",
    "import nltk, datetime\n",
    "import seaborn as sns\n",
    "import pickle\n",
    "import sys\n",
    "import time\n",
    "from matplotlib import pyplot as plt\n",
    "import warnings\n",
    "warnings.filterwarnings(\"ignore\")\n",
    "items = pd.read_csv('../input/competitive-data-science-predict-future-sales/items.csv')\n",
    "shops = pd.read_csv('../input/competitive-data-science-predict-future-sales/shops.csv')\n",
    "item_cats = pd.read_csv('../input/competitive-data-science-predict-future-sales/item_categories.csv')\n",
    "train = pd.read_csv('../input/competitive-data-science-predict-future-sales/sales_train.csv')\n",
    "# set index to ID to avoid droping it later\n",
    "test  = pd.read_csv('../input/competitive-data-science-predict-future-sales/test.csv').set_index('ID')\n",
    "print('train:', train.shape, 'test:', test.shape)\n",
    "sys.version_info"
   ]
  },
  {
   "cell_type": "markdown",
   "metadata": {
    "_uuid": "35cf1a7c6c4eca48c9fb3bac10e275edd361db3a"
   },
   "source": [
    "## 2.EDA"
   ]
  },
  {
   "cell_type": "code",
   "execution_count": null,
   "metadata": {
    "_uuid": "0f62edad070c267d202075c854867ff04befb03e",
    "collapsed": true
   },
   "outputs": [],
   "source": [
    "#Checking the outliers\n",
    "plt.figure(figsize=(10,4))\n",
    "plt.xlim(-100, 3000)\n",
    "sns.boxplot(x=train.item_cnt_day)\n",
    "\n",
    "plt.figure(figsize=(10,4))\n",
    "plt.xlim(train.item_price.min(), train.item_price.max()*1.1)\n",
    "sns.boxplot(x=train.item_price)\n",
    "plt.show()"
   ]
  },
  {
   "cell_type": "markdown",
   "metadata": {
    "_uuid": "8214dbfb553347fe0ccd769f14dc13efabb7d5aa"
   },
   "source": [
    "#### 2.1 Removing Outliers"
   ]
  },
  {
   "cell_type": "code",
   "execution_count": null,
   "metadata": {
    "_uuid": "6e535b6d24397e1b0a6ae82a83fb55ce1c5f2b6a",
    "collapsed": true
   },
   "outputs": [],
   "source": [
    "#Removing the outliers\n",
    "train = train[train.item_price<100000]\n",
    "train = train[train.item_cnt_day<1001]"
   ]
  },
  {
   "cell_type": "markdown",
   "metadata": {
    "_uuid": "07d317fe6748c1eaa214058a570b7b59e61c8412"
   },
   "source": [
    "#### 2.2 Replacing Negative Item Price with Median value"
   ]
  },
  {
   "cell_type": "code",
   "execution_count": null,
   "metadata": {
    "_uuid": "2b5e6ea97ae4d2f29184d037458acc2124de303d",
    "collapsed": true
   },
   "outputs": [],
   "source": [
    "train.loc[train.item_price<0, 'item_price']"
   ]
  },
  {
   "cell_type": "code",
   "execution_count": null,
   "metadata": {
    "_uuid": "57dda93f01620bda3ff33f4676467c522aead706",
    "collapsed": true
   },
   "outputs": [],
   "source": [
    "median = train[(train.shop_id==32)&(train.item_id==2973)&(train.date_block_num==4)&(train.item_price>0)].item_price.median()\n",
    "train.loc[train.item_price<0, 'item_price'] = median"
   ]
  },
  {
   "cell_type": "markdown",
   "metadata": {
    "_uuid": "a6f7fe4da8634722d67dce8a54c3b5b38b4ac45a"
   },
   "source": [
    "#### 2.3 Comparing train and test set for detecting differences"
   ]
  },
  {
   "cell_type": "code",
   "execution_count": null,
   "metadata": {
    "_uuid": "dde0f30e4a4ab59288054837e529b837ff9cdf2f",
    "collapsed": true
   },
   "outputs": [],
   "source": [
    "[c for c in train.columns if c not in test.columns]"
   ]
  },
  {
   "cell_type": "code",
   "execution_count": null,
   "metadata": {
    "_uuid": "5c52d4510fec481c90a801d50fa4594a5abd6c14",
    "collapsed": true
   },
   "outputs": [],
   "source": [
    "train.head()"
   ]
  },
  {
   "cell_type": "code",
   "execution_count": null,
   "metadata": {
    "_uuid": "1cf8e3e5ce67a80d07e7196d6ada97bf4297a78f",
    "collapsed": true
   },
   "outputs": [],
   "source": [
    "test.head()"
   ]
  },
  {
   "cell_type": "markdown",
   "metadata": {
    "_uuid": "550731a39e0dc20b0323644cce8cf91422d38a95"
   },
   "source": [
    "## 3. Feature Engineering"
   ]
  },
  {
   "cell_type": "markdown",
   "metadata": {
    "_uuid": "30b942b960c4ee0a96bcfb4675eb550a31a78216"
   },
   "source": [
    "#### 3.1 Categorising item categories"
   ]
  },
  {
   "cell_type": "code",
   "execution_count": null,
   "metadata": {
    "_uuid": "120021649748ff4c7522e80de0de81cfe6915b22",
    "collapsed": true
   },
   "outputs": [],
   "source": [
    "l = list(item_cats.item_category_name)\n",
    "l_cat = l\n",
    "\n",
    "for ind in range(1,8):\n",
    "    l_cat[ind] = 'Access'\n",
    "\n",
    "for ind in range(10,18):\n",
    "    l_cat[ind] = 'Consoles'\n",
    "\n",
    "for ind in range(18,25):\n",
    "    l_cat[ind] = 'Consoles Games'\n",
    "\n",
    "for ind in range(26,28):\n",
    "    l_cat[ind] = 'phone games'\n",
    "\n",
    "for ind in range(28,32):\n",
    "    l_cat[ind] = 'CD games'\n",
    "\n",
    "for ind in range(32,37):\n",
    "    l_cat[ind] = 'Card'\n",
    "\n",
    "for ind in range(37,43):\n",
    "    l_cat[ind] = 'Movie'\n",
    "\n",
    "for ind in range(43,55):\n",
    "    l_cat[ind] = 'Books'\n",
    "\n",
    "for ind in range(55,61):\n",
    "    l_cat[ind] = 'Music'\n",
    "\n",
    "for ind in range(61,73):\n",
    "    l_cat[ind] = 'Gifts'\n",
    "\n",
    "for ind in range(73,79):\n",
    "    l_cat[ind] = 'Soft'\n",
    "\n",
    "\n",
    "item_cats['cats'] = l_cat\n",
    "item_cats.head()"
   ]
  },
  {
   "cell_type": "markdown",
   "metadata": {
    "_uuid": "59006dff58e7c1af819c846483427ee8d64ab8e3"
   },
   "source": [
    "### 3.2 Creating Text Features"
   ]
  },
  {
   "cell_type": "markdown",
   "metadata": {
    "_uuid": "e928eba2df1545416930f625c1ee73882c048323"
   },
   "source": [
    "#### 3.2.1 Text features for item name"
   ]
  },
  {
   "cell_type": "code",
   "execution_count": null,
   "metadata": {
    "_uuid": "2670050d60a92dc81197efb4b9eb2e0499702922",
    "collapsed": true
   },
   "outputs": [],
   "source": [
    "to_drop_cols = []\n",
    "#Text Features\n",
    "feature_cnt = 2\n",
    "tfidf = feature_extraction.text.TfidfVectorizer(max_features=feature_cnt)\n",
    "items['item_name_len'] = items['item_name'].map(len) #Lenth of Item Description\n",
    "items['item_name_wc'] = items['item_name'].map(lambda x: len(str(x).split(' '))) #Item Description Word Count\n",
    "txtFeatures = pd.DataFrame(tfidf.fit_transform(items['item_name']).toarray())\n",
    "cols = list(txtFeatures.columns)\n",
    "for i in range(feature_cnt):\n",
    "    items['item_name_tfidf_' + str(i)] = txtFeatures[cols[i]]\n",
    "    to_drop_cols.append('item_name_tfidf_' + str(i))\n",
    "items.head()"
   ]
  },
  {
   "cell_type": "markdown",
   "metadata": {
    "_uuid": "0aa4f7c64923887371f34af513ec7d8972b075ea"
   },
   "source": [
    "#### 3.2.2 Text features for item category name"
   ]
  },
  {
   "cell_type": "code",
   "execution_count": null,
   "metadata": {
    "_uuid": "c9698e0de55bb4d2c9b9c54bdbbef171e31a8fc0",
    "collapsed": true
   },
   "outputs": [],
   "source": [
    "#Text Features\n",
    "feature_cnt = 2\n",
    "tfidf = feature_extraction.text.TfidfVectorizer(max_features=feature_cnt)\n",
    "item_cats['item_category_name_len'] = item_cats['item_category_name'].map(len)  #Lenth of Item Category Description\n",
    "item_cats['item_category_name_wc'] = item_cats['item_category_name'].map(lambda x: len(str(x).split(' '))) #Item Category Description Word Count\n",
    "txtFeatures = pd.DataFrame(tfidf.fit_transform(item_cats['item_category_name']).toarray())\n",
    "cols = txtFeatures.columns\n",
    "for i in range(feature_cnt):\n",
    "    item_cats['item_category_name_tfidf_' + str(i)] = txtFeatures[cols[i]]\n",
    "    to_drop_cols.append('item_category_name_tfidf_' + str(i))\n",
    "item_cats.head()"
   ]
  },
  {
   "cell_type": "markdown",
   "metadata": {
    "_uuid": "46b245050b6e1bc609779415b53340c00ff0b90a"
   },
   "source": [
    "#### 3.2.3 Text features for shop name"
   ]
  },
  {
   "cell_type": "code",
   "execution_count": null,
   "metadata": {
    "_uuid": "204ba74b4610a1127cc932fc751af990b12797eb",
    "collapsed": true
   },
   "outputs": [],
   "source": [
    "#Text Features\n",
    "feature_cnt = 2\n",
    "tfidf = feature_extraction.text.TfidfVectorizer(max_features=feature_cnt)\n",
    "shops['shop_name_len'] = shops['shop_name'].map(len)  #Lenth of Shop Name\n",
    "shops['shop_name_wc'] = shops['shop_name'].map(lambda x: len(str(x).split(' '))) #Shop Name Word Count\n",
    "txtFeatures = pd.DataFrame(tfidf.fit_transform(shops['shop_name']).toarray())\n",
    "cols = txtFeatures.columns\n",
    "for i in range(feature_cnt):\n",
    "    shops['shop_name_tfidf_' + str(i)] = txtFeatures[cols[i]]\n",
    "    to_drop_cols.append('shop_name_tfidf_' + str(i))\n",
    "shops.head()"
   ]
  },
  {
   "cell_type": "markdown",
   "metadata": {
    "_uuid": "79d6b4c8af08c13c8a213e02f037f787a8727351"
   },
   "source": [
    "### 3.3.1 Creating date block number, shop and item pairs for training part"
   ]
  },
  {
   "cell_type": "code",
   "execution_count": null,
   "metadata": {
    "_uuid": "c17a1b19a4842380a2a6c046135e435e0481e5dd",
    "collapsed": true
   },
   "outputs": [],
   "source": [
    "from itertools import product\n",
    "ts = time.time()\n",
    "matrix = []\n",
    "cols = ['date_block_num','shop_id','item_id']\n",
    "for i in range(34):\n",
    "    sales = train[train.date_block_num==i]\n",
    "    matrix.append(np.array(list(product([i], sales.shop_id.unique(), sales.item_id.unique())), dtype='int16'))\n",
    "    \n",
    "matrix = pd.DataFrame(np.vstack(matrix), columns=cols)\n",
    "matrix['date_block_num'] = matrix['date_block_num'].astype(np.int8)\n",
    "matrix['shop_id'] = matrix['shop_id'].astype(np.int8)\n",
    "matrix['item_id'] = matrix['item_id'].astype(np.int16)\n",
    "matrix.sort_values(cols,inplace=True)\n",
    "time.time() - ts"
   ]
  },
  {
   "cell_type": "code",
   "execution_count": null,
   "metadata": {
    "_uuid": "e56c8c3bcb25f626fa8c2f7c1ae568fc9434daa2",
    "collapsed": true
   },
   "outputs": [],
   "source": [
    "print(matrix.memory_usage())"
   ]
  },
  {
   "cell_type": "markdown",
   "metadata": {
    "_uuid": "fb04c85d0483e1003abeec2db20740937e36e9f4"
   },
   "source": [
    "### 3.2.2 Working on the test set"
   ]
  },
  {
   "cell_type": "code",
   "execution_count": null,
   "metadata": {
    "_uuid": "db51586382b4482e0a2d4803017d4da029d06e76",
    "collapsed": true
   },
   "outputs": [],
   "source": [
    "test['date_block_num'] = 34\n",
    "#Items features\n",
    "test = pd.merge(test, items, how='left', on='item_id')\n",
    "#Item Category features\n",
    "test = pd.merge(test, item_cats, how='left', on='item_category_id')\n",
    "#Shops features\n",
    "test = pd.merge(test, shops, how='left', on='shop_id')\n",
    "\n",
    "test['date_block_num'] = test['date_block_num'].astype(np.int8)\n",
    "test['shop_id'] = test['shop_id'].astype(np.int8)\n",
    "test['item_id'] = test['item_id'].astype(np.int16)\n",
    "test.head()"
   ]
  },
  {
   "cell_type": "markdown",
   "metadata": {
    "_uuid": "eeb4a791af34234975a44b6e68e6d35448708c52"
   },
   "source": [
    "matrix = train[['date_block_num','shop_id','item_id']]\n",
    "matrix['date_block_num'] = matrix['date_block_num'].astype(np.int8)\n",
    "matrix['shop_id'] = matrix['shop_id'].astype(np.int8)\n",
    "matrix['item_id'] = matrix['item_id'].astype(np.int16)\n",
    "\n",
    "cols = ['date_block_num','shop_id','item_id']\n",
    "matrix.sort_values(cols,inplace=True)\n",
    "print('\\t'.join(matrix.columns))\n",
    "print(matrix.memory_usage())"
   ]
  },
  {
   "cell_type": "markdown",
   "metadata": {
    "_uuid": "7775e8556569257f5ecd1522ed686c15fef578e7"
   },
   "source": [
    "### 3.2.3 Working on training set"
   ]
  },
  {
   "cell_type": "code",
   "execution_count": null,
   "metadata": {
    "_uuid": "4bdb623cdcf6d1a5f9869e618a9405abd1b16fa7",
    "collapsed": true
   },
   "outputs": [],
   "source": [
    "import time\n",
    "ts = time.time()\n",
    "matrix = pd.merge(matrix, shops, on=['shop_id'], how='left')\n",
    "matrix = pd.merge(matrix, items, on=['item_id'], how='left')\n",
    "matrix = pd.merge(matrix, item_cats, on=['item_category_id'], how='left')\n",
    "\n",
    "matrix['item_name_len'] = matrix['item_name_len'].astype(np.int8)\n",
    "matrix['item_name_wc'] = matrix['item_name_wc'].astype(np.int8)\n",
    "matrix['shop_name_len'] = matrix['shop_name_len'].astype(np.int8)\n",
    "matrix['shop_name_wc'] = matrix['shop_name_wc'].astype(np.int8)\n",
    "matrix['item_category_name_len'] = matrix['item_category_name_len'].astype(np.int8)\n",
    "matrix['item_category_name_wc'] = matrix['item_category_name_wc'].astype(np.int8)\n",
    "for i in to_drop_cols:\n",
    "    matrix[i] = matrix[i].astype(np.float32)\n",
    "print('\\t'.join(matrix.columns))\n",
    "print(time.time() - ts)\n",
    "print(matrix.shape)"
   ]
  },
  {
   "cell_type": "markdown",
   "metadata": {
    "_uuid": "c6cb48ac8251512718d469a7716cf19ca24b5014"
   },
   "source": [
    "#### Function definition for creating lag"
   ]
  },
  {
   "cell_type": "code",
   "execution_count": null,
   "metadata": {
    "_uuid": "d3e1cd8e8cfc024df5b89d9086fa50e96d441fc2",
    "collapsed": true
   },
   "outputs": [],
   "source": [
    "def lag_feature(df,test, lags, col):\n",
    "    tmp = df[['date_block_num','shop_id','item_id',col]]\n",
    "    for i in lags:\n",
    "        shifted = tmp.copy()\n",
    "        shifted.columns = ['date_block_num','shop_id','item_id', col+'_lag_'+str(i)]\n",
    "        shifted['date_block_num'] += i\n",
    "        df = pd.merge(df, shifted, on=['date_block_num','shop_id','item_id'], how='left')\n",
    "        test = pd.merge(test, shifted, on=['date_block_num','shop_id','item_id'], how='left')\n",
    "    return df , test"
   ]
  },
  {
   "cell_type": "markdown",
   "metadata": {
    "_uuid": "8f0a0e568871cccfc24afbf17d57a9ea3edb8354"
   },
   "source": [
    "#### Generating monthly target values"
   ]
  },
  {
   "cell_type": "code",
   "execution_count": null,
   "metadata": {
    "_uuid": "79959e44611d4cad131db6c502b1cebb7c565609",
    "collapsed": true
   },
   "outputs": [],
   "source": [
    "ts = time.time()\n",
    "group = train.groupby(['date_block_num','shop_id','item_id']).agg({\n",
    "    'item_cnt_day': ['sum', 'count']\n",
    "})\n",
    "group.columns = ['item_cnt_month', 'orders']\n",
    "group.reset_index(inplace=True)\n",
    "\n",
    "matrix = pd.merge(matrix, group, on=cols, how='left')\n",
    "matrix['item_cnt_month'] = (matrix['item_cnt_month']\n",
    "                                .fillna(0)\n",
    "                                .clip(0,20) # NB clip trget here\n",
    "                                .astype(np.float16))\n",
    "matrix['orders'] = matrix['orders'].fillna(0).astype(np.float16)\n",
    "time.time() - ts"
   ]
  },
  {
   "cell_type": "markdown",
   "metadata": {
    "_uuid": "e042c4e6d906004f6408eeed1ed6393eba8de5f7"
   },
   "source": [
    "#### Garbage collection to free ram space"
   ]
  },
  {
   "cell_type": "code",
   "execution_count": null,
   "metadata": {
    "_uuid": "b9b0d1c6950d39ef884aa900aaafa879ff8402cc",
    "collapsed": true
   },
   "outputs": [],
   "source": [
    "import gc\n",
    "collected = gc.collect() \n",
    "  \n",
    "print (\"Garbage collector: collected %d objects.\" % (collected) )"
   ]
  },
  {
   "cell_type": "markdown",
   "metadata": {
    "_uuid": "32ffafc644cba5fcc696a25046084583631da7c9"
   },
   "source": [
    "#### Mean Encoding of different features"
   ]
  },
  {
   "cell_type": "code",
   "execution_count": null,
   "metadata": {
    "_uuid": "5e9819910b26856147d58986d1427ea2c6d86c63",
    "collapsed": true
   },
   "outputs": [],
   "source": [
    "ts=time.time()\n",
    "for type_ids in [['item_id'], ['shop_id'], ['cats'], ['item_id', 'shop_id']]:\n",
    "    for column_id in ['item_cnt_month']:\n",
    "        mean_df = matrix[type_ids + [column_id]].groupby(type_ids).agg(np.mean).reset_index()\n",
    "        mean_df.rename(\n",
    "            {column_id: \"mean_of_\"+column_id+\"_groupby_\"+\"_\".join(type_ids)},\n",
    "            axis='columns', inplace=True\n",
    "        )\n",
    "        \n",
    "        matrix = pd.merge(matrix, mean_df, on=type_ids, how='left')\n",
    "        test = pd.merge(test, mean_df, on=type_ids, how='left')\n",
    "time.time() - ts"
   ]
  },
  {
   "cell_type": "markdown",
   "metadata": {
    "_uuid": "358fbec867a0b6cf86854fcf54287f7ed87f72c7"
   },
   "source": [
    "#### Garbage collection at regular intervals to free ram space"
   ]
  },
  {
   "cell_type": "code",
   "execution_count": null,
   "metadata": {
    "_uuid": "86c5a30369161df89afe7de84a3d482a86d3dcd2",
    "collapsed": true
   },
   "outputs": [],
   "source": [
    "collected = gc.collect() \n",
    "print( \"Garbage collector: collected %d objects.\" % (collected) )"
   ]
  },
  {
   "cell_type": "markdown",
   "metadata": {
    "_uuid": "c283b65a195f154ce96f353c1033fd18ea02682c"
   },
   "source": [
    "#### Creating Lag"
   ]
  },
  {
   "cell_type": "code",
   "execution_count": null,
   "metadata": {
    "_uuid": "3d5c005987b97a72ddbed990efe9330ccee02913",
    "collapsed": true
   },
   "outputs": [],
   "source": [
    "ts = time.time()\n",
    "matrix,test = lag_feature(matrix,test, [1,2,3,6,12], 'item_cnt_month')\n",
    "matrix,test = lag_feature(matrix,test, [1,2,3,6,12], 'orders')\n",
    "time.time() - ts"
   ]
  },
  {
   "cell_type": "markdown",
   "metadata": {
    "_uuid": "26fa0cff9d54304231cb130e96d0c991b9079ad7"
   },
   "source": [
    "#### Creating mean item price feature"
   ]
  },
  {
   "cell_type": "code",
   "execution_count": null,
   "metadata": {
    "_uuid": "03f8febea9b6ab101495fdad0fafcc1b57cc9f9d",
    "collapsed": true
   },
   "outputs": [],
   "source": [
    "ts = time.time()\n",
    "group = train.groupby(['date_block_num','item_id']).agg({'item_price': ['mean']})\n",
    "group.columns = ['item_price']\n",
    "group.reset_index(inplace=True)\n",
    "\n",
    "matrix = pd.merge(matrix, group, on=['date_block_num','item_id'], how='left')\n",
    "matrix['item_price'] = matrix['item_price'].astype(np.float32) \n",
    "\n",
    "time.time() - ts"
   ]
  },
  {
   "cell_type": "code",
   "execution_count": null,
   "metadata": {
    "_uuid": "be7e95c7cf60364838da9a54734409d9d02b8ef4",
    "collapsed": true
   },
   "outputs": [],
   "source": [
    "matrix.isnull().any()"
   ]
  },
  {
   "cell_type": "code",
   "execution_count": null,
   "metadata": {
    "_uuid": "28d4746d3f9076a0850e42c9ed46c67471e100e9",
    "collapsed": true
   },
   "outputs": [],
   "source": [
    "collected = gc.collect() \n",
    "print( \"Garbage collector: collected %d objects.\" % (collected) )"
   ]
  },
  {
   "cell_type": "markdown",
   "metadata": {
    "_uuid": "28ea117e40e2569d1424dbff8387018743370e06"
   },
   "source": [
    "#### Generating features by grouping - date_block_num & item_id"
   ]
  },
  {
   "cell_type": "code",
   "execution_count": null,
   "metadata": {
    "_uuid": "a0972bf186a8eefdd4c9cdde64244d994bb9143f",
    "collapsed": true
   },
   "outputs": [],
   "source": [
    "ts = time.time()\n",
    "group = matrix.groupby(['date_block_num', 'item_id']).agg({\n",
    "    'item_cnt_month': ['mean'],\n",
    "    'orders': ['sum'],\n",
    "    'item_price': ['mean']\n",
    "})\n",
    "group.columns = [ 'date_item_avg_item_cnt', 'date_item_sum_orders', 'date_item_avg_item_price' ]\n",
    "group.reset_index(inplace=True)\n",
    "\n",
    "matrix = pd.merge(matrix, group, on=['date_block_num','item_id'], how='left')\n",
    "matrix['date_item_avg_item_cnt'] = matrix['date_item_avg_item_cnt'].astype(np.float16)\n",
    "matrix['date_item_sum_orders'] = matrix['date_item_sum_orders'].astype(np.float16)\n",
    "matrix['date_item_avg_item_price'] = matrix['date_item_avg_item_price'].astype(np.float32)\n",
    "for i in [ 'date_item_avg_item_cnt', 'date_item_sum_orders', 'date_item_avg_item_price' ]:\n",
    "    matrix,test = lag_feature(matrix,test, [1,2,3,6,12], i)\n",
    "    matrix.drop([i], axis=1, inplace=True)\n",
    "time.time() - ts"
   ]
  },
  {
   "cell_type": "code",
   "execution_count": null,
   "metadata": {
    "_uuid": "b2ab46c1c410f3ab898dc811cf7b0efd32ba5f58",
    "collapsed": true
   },
   "outputs": [],
   "source": [
    "collected = gc.collect() \n",
    "print( \"Garbage collector: collected %d objects.\" % (collected) )"
   ]
  },
  {
   "cell_type": "markdown",
   "metadata": {
    "_uuid": "fd8147db497c24ec81fd2a58f48c7d04a9728521"
   },
   "source": [
    "#### Generating features by grouping - shop_id & item_id"
   ]
  },
  {
   "cell_type": "code",
   "execution_count": null,
   "metadata": {
    "_uuid": "4a05bc48fb3a020af28a9769de14c44ac8266bee",
    "collapsed": true
   },
   "outputs": [],
   "source": [
    "ts = time.time()\n",
    "group = matrix.groupby(['shop_id', 'item_id']).agg({\n",
    "    'item_cnt_month': ['mean'],\n",
    "    'orders': ['sum'],\n",
    "    'item_price': ['mean']\n",
    "})\n",
    "group.columns = [ 'shop_item_avg_item_cnt', 'shop_item_sum_orders', 'shop_item_avg_item_price' ]\n",
    "group.reset_index(inplace=True)\n",
    "\n",
    "matrix = pd.merge(matrix, group, on=['shop_id','item_id'], how='left')\n",
    "matrix['shop_item_avg_item_cnt'] = matrix['shop_item_avg_item_cnt'].astype(np.float16)\n",
    "matrix['shop_item_sum_orders'] = matrix['shop_item_sum_orders'].astype(np.float16)\n",
    "matrix['shop_item_avg_item_price'] = matrix['shop_item_avg_item_price'].astype(np.float32)\n",
    "for i in [ 'shop_item_avg_item_cnt', 'shop_item_sum_orders', 'shop_item_avg_item_price' ]:\n",
    "    matrix,test = lag_feature(matrix,test, [1,2,3,6,12], i)\n",
    "    matrix.drop([i], axis=1, inplace=True)\n",
    "time.time() - ts"
   ]
  },
  {
   "cell_type": "code",
   "execution_count": null,
   "metadata": {
    "_uuid": "ef9bddfd92192f1fe3b10d342cefcbaefcc95788",
    "collapsed": true
   },
   "outputs": [],
   "source": [
    "collected = gc.collect() \n",
    "print( \"Garbage collector: collected %d objects.\" % (collected) )"
   ]
  },
  {
   "cell_type": "markdown",
   "metadata": {
    "_uuid": "63179d200e7d48b0c1d9128a33779e036c6bc9f5"
   },
   "source": [
    "#### Generating features by grouping - date_block_num & shop_id"
   ]
  },
  {
   "cell_type": "code",
   "execution_count": null,
   "metadata": {
    "_uuid": "6a039c3725a55f1d1ff7112bd8895a4a90ee6377",
    "collapsed": true
   },
   "outputs": [],
   "source": [
    "ts = time.time()\n",
    "group = matrix.groupby(['date_block_num', 'shop_id']).agg({\n",
    "    'item_cnt_month': ['mean'],\n",
    "    'orders': ['sum'],\n",
    "    'item_price': ['mean']\n",
    "})\n",
    "group.columns = [ 'date_shop_avg_item_cnt', 'date_shop_sum_orders', 'date_shop_avg_item_price' ]\n",
    "group.reset_index(inplace=True)\n",
    "\n",
    "matrix = pd.merge(matrix, group, on=['date_block_num','shop_id'], how='left')\n",
    "matrix['date_shop_avg_item_cnt'] = matrix['date_shop_avg_item_cnt'].astype(np.float16)\n",
    "matrix['date_shop_sum_orders'] = matrix['date_shop_sum_orders'].astype(np.float16)\n",
    "matrix['date_shop_avg_item_price'] = matrix['date_shop_avg_item_price'].astype(np.float32)\n",
    "for i in [ 'date_shop_avg_item_cnt', 'date_shop_sum_orders', 'date_shop_avg_item_price' ]:\n",
    "    matrix,test = lag_feature(matrix,test, [1,2,3,6,12], i)\n",
    "    matrix.drop([i], axis=1, inplace=True)\n",
    "time.time() - ts"
   ]
  },
  {
   "cell_type": "code",
   "execution_count": null,
   "metadata": {
    "_uuid": "de0fc327e25e6ced9aeadf998084dc6ca759bb0d",
    "collapsed": true
   },
   "outputs": [],
   "source": [
    "collected = gc.collect() \n",
    "print( \"Garbage collector: collected %d objects.\" % (collected) )"
   ]
  },
  {
   "cell_type": "markdown",
   "metadata": {
    "_uuid": "43fa29d2d39a958f804bfa816874c9f228d67149"
   },
   "source": [
    "#### Generating features by grouping - date_block_num & item_category_id"
   ]
  },
  {
   "cell_type": "code",
   "execution_count": null,
   "metadata": {
    "_uuid": "d9e0a833bf3ce26ceae7e1d39a0c393c9c6a5a1a",
    "collapsed": true
   },
   "outputs": [],
   "source": [
    "ts = time.time()\n",
    "group = matrix.groupby(['date_block_num', 'item_category_id']).agg({\n",
    "    'item_cnt_month': ['mean'],\n",
    "    'orders': ['sum'],\n",
    "    'item_price': ['mean']\n",
    "})\n",
    "group.columns = [ 'date_cat_avg_item_cnt', 'date_cat_sum_orders', 'date_cat_avg_item_price' ]\n",
    "group.reset_index(inplace=True)\n",
    "\n",
    "matrix = pd.merge(matrix, group, on=['date_block_num','item_category_id'], how='left')\n",
    "matrix['date_cat_avg_item_cnt'] = matrix['date_cat_avg_item_cnt'].astype(np.float16)\n",
    "matrix['date_cat_sum_orders'] = matrix['date_cat_sum_orders'].astype(np.float16)\n",
    "matrix['date_cat_avg_item_price'] = matrix['date_cat_avg_item_price'].astype(np.float32)\n",
    "for i in [ 'date_cat_avg_item_cnt', 'date_cat_sum_orders', 'date_cat_avg_item_price' ]:\n",
    "    matrix,test = lag_feature(matrix,test, [1,2,3,6,12], i)\n",
    "    matrix.drop([i], axis=1, inplace=True)\n",
    "time.time() - ts"
   ]
  },
  {
   "cell_type": "code",
   "execution_count": null,
   "metadata": {
    "_uuid": "2318a1a063b14a1c47c8cca597077edd4356c1a3",
    "collapsed": true
   },
   "outputs": [],
   "source": [
    "collected = gc.collect() \n",
    "print( \"Garbage collector: collected %d objects.\" % (collected) )"
   ]
  },
  {
   "cell_type": "markdown",
   "metadata": {
    "_uuid": "93d893ed53de5b85e7235b46af4d401503a6b3dd"
   },
   "source": [
    "#### Generating features by grouping - shop_id & item_id"
   ]
  },
  {
   "cell_type": "code",
   "execution_count": null,
   "metadata": {
    "_uuid": "0b82fa1e3961e6491a4be15cf476693f1f6a8e32",
    "collapsed": true
   },
   "outputs": [],
   "source": [
    "ts = time.time()\n",
    "group = matrix.groupby(['shop_id','item_id']).agg({\n",
    "    'item_cnt_month': ['mean']\n",
    "})\n",
    "group.columns = [ 'shop_item_monthly_mean' ]\n",
    "group.reset_index(inplace=True)\n",
    "\n",
    "matrix = pd.merge(matrix, group, on=['shop_id','item_id'], how='left')\n",
    "matrix['shop_item_monthly_mean'] = matrix['shop_item_monthly_mean'].astype(np.float16)\n",
    "for i in [ 'shop_item_monthly_mean' ]:\n",
    "    matrix,test = lag_feature(matrix,test, [1,2,3,6,12], i)\n",
    "    matrix.drop([i], axis=1, inplace=True)\n",
    "time.time() - ts"
   ]
  },
  {
   "cell_type": "code",
   "execution_count": null,
   "metadata": {
    "_uuid": "e79d5ce9ee70bae5ff26a2fefa1cc0d2e4516cd5",
    "collapsed": true
   },
   "outputs": [],
   "source": [
    "collected = gc.collect() \n",
    "print( \"Garbage collector: collected %d objects.\" % (collected) )"
   ]
  },
  {
   "cell_type": "markdown",
   "metadata": {
    "_uuid": "f81350d6bab8a55d7cca6055714fdbba7c6393c3"
   },
   "source": [
    "#### Generating features by grouping - shop_id"
   ]
  },
  {
   "cell_type": "code",
   "execution_count": null,
   "metadata": {
    "_uuid": "d1d500d8d2b3805808a2f8becf13df4e7277981b",
    "collapsed": true
   },
   "outputs": [],
   "source": [
    "ts = time.time()\n",
    "group = matrix.groupby(['shop_id']).agg({\n",
    "    'item_cnt_month': ['mean']\n",
    "})\n",
    "group.columns = [ 'shop_monthly_mean' ]\n",
    "group.reset_index(inplace=True)\n",
    "\n",
    "matrix = pd.merge(matrix, group, on=['shop_id'], how='left')\n",
    "matrix['shop_monthly_mean'] = matrix['shop_monthly_mean'].astype(np.float16)\n",
    "for i in [ 'shop_monthly_mean' ]:\n",
    "    matrix,test = lag_feature(matrix,test, [1,2,3,6,12], i)\n",
    "    matrix.drop([i], axis=1, inplace=True)\n",
    "time.time() - ts"
   ]
  },
  {
   "cell_type": "code",
   "execution_count": null,
   "metadata": {
    "_uuid": "dd31107fb43fc48e8b187eca1c9b0de7c22b5a21",
    "collapsed": true
   },
   "outputs": [],
   "source": [
    "collected = gc.collect() \n",
    "print( \"Garbage collector: collected %d objects.\" % (collected) )"
   ]
  },
  {
   "cell_type": "markdown",
   "metadata": {
    "_uuid": "10890f8f309a1507c3a53ebbaed0e74cce35a4b9"
   },
   "source": [
    "#### Generating features by grouping - item_id"
   ]
  },
  {
   "cell_type": "code",
   "execution_count": null,
   "metadata": {
    "_uuid": "facf962e6588eef76c9fb8917c9fc3070715eaaf",
    "collapsed": true
   },
   "outputs": [],
   "source": [
    "ts = time.time()\n",
    "group = matrix.groupby(['item_id']).agg({\n",
    "    'item_cnt_month': ['mean']\n",
    "})\n",
    "group.columns = [ 'item_monthly_mean' ]\n",
    "group.reset_index(inplace=True)\n",
    "\n",
    "matrix = pd.merge(matrix, group, on=['item_id'], how='left')\n",
    "matrix['item_monthly_mean'] = matrix['item_monthly_mean'].astype(np.float16)\n",
    "for i in [ 'item_monthly_mean' ]:\n",
    "    matrix,test = lag_feature(matrix,test, [1,2,3,6,12], i)\n",
    "    matrix.drop([i], axis=1, inplace=True)\n",
    "time.time() - ts"
   ]
  },
  {
   "cell_type": "code",
   "execution_count": null,
   "metadata": {
    "_uuid": "10ae32b5461ca2dfc0c5a30107d0046c74f46a11",
    "collapsed": true
   },
   "outputs": [],
   "source": [
    "print(matrix.shape)"
   ]
  },
  {
   "cell_type": "code",
   "execution_count": null,
   "metadata": {
    "_uuid": "89bbd9dd1a9f980b02069699b20c864914dbb120",
    "collapsed": true
   },
   "outputs": [],
   "source": [
    "collected = gc.collect() \n",
    "print( \"Garbage collector: collected %d objects.\" % (collected) )"
   ]
  },
  {
   "cell_type": "markdown",
   "metadata": {
    "_uuid": "19d264894538d55c58e2765ff15e6c6d4b6f9cbe"
   },
   "source": [
    "## Merging the Train and Test set"
   ]
  },
  {
   "cell_type": "code",
   "execution_count": null,
   "metadata": {
    "_uuid": "aab1e1d672c5a54911fbbf23839ac2087faf4b6a",
    "collapsed": true
   },
   "outputs": [],
   "source": [
    "ts = time.time()\n",
    "matrix = pd.concat([matrix, test], ignore_index=True, keys=cols)\n",
    "matrix.fillna(0, inplace=True)\n",
    "time.time() - ts"
   ]
  },
  {
   "cell_type": "code",
   "execution_count": null,
   "metadata": {
    "_uuid": "234ffba235ea680d10eab7616f5003de2cacffef",
    "collapsed": true
   },
   "outputs": [],
   "source": [
    "collected = gc.collect() \n",
    "print( \"Garbage collector: collected %d objects.\" % (collected) )"
   ]
  },
  {
   "cell_type": "markdown",
   "metadata": {
    "_uuid": "b41f68b97124abb2ab5b38e4d490ce2c2e25ba13"
   },
   "source": [
    "#### Generating month feature"
   ]
  },
  {
   "cell_type": "code",
   "execution_count": null,
   "metadata": {
    "_uuid": "a04245cfda383ddc5df73dcaa0940e9a6cdd70d7",
    "collapsed": true
   },
   "outputs": [],
   "source": [
    "matrix['month'] = matrix['date_block_num'] % 12 + 1"
   ]
  },
  {
   "cell_type": "code",
   "execution_count": null,
   "metadata": {
    "_uuid": "9c115c79ba0ed808a3cd0817a831feada286e89b",
    "collapsed": true
   },
   "outputs": [],
   "source": [
    "print('\\n'.join(matrix.columns))\n"
   ]
  },
  {
   "cell_type": "code",
   "execution_count": null,
   "metadata": {
    "_uuid": "03ec2c8f94ae31546ce5709121aeb16ecac2f0a8",
    "collapsed": true
   },
   "outputs": [],
   "source": [
    "matrix.shape"
   ]
  },
  {
   "cell_type": "code",
   "execution_count": null,
   "metadata": {
    "_uuid": "83bd3e419829f749216bb4d6a4745bc2ba1225b0",
    "collapsed": true
   },
   "outputs": [],
   "source": [
    "del train\n",
    "del test\n",
    "del items\n",
    "del item_cats\n",
    "del shops\n",
    "del group\n",
    "data = matrix"
   ]
  },
  {
   "cell_type": "code",
   "execution_count": null,
   "metadata": {
    "_uuid": "7e2535f7d719c1237c8beec0b59f68a6a046ec77",
    "collapsed": true
   },
   "outputs": [],
   "source": [
    "print('\\n'.join(data.columns))\n",
    "print(data.shape)"
   ]
  },
  {
   "cell_type": "markdown",
   "metadata": {
    "_uuid": "b72ab77981883894fa986dd19610872c05b51a72"
   },
   "source": [
    "#### Deleting data points before 2013 since we have created a lag for 1,2,3,6 & 12 months\n",
    "#### Also dropping some irrelevant features"
   ]
  },
  {
   "cell_type": "code",
   "execution_count": null,
   "metadata": {
    "_uuid": "bce7ba34b9eca6d1f367cca67423287da421ce78",
    "collapsed": true
   },
   "outputs": [],
   "source": [
    "ts = time.time()\n",
    "data = data[data.date_block_num > 11]\n",
    "data.drop([\n",
    "    'orders', \n",
    "    'cats' ,\n",
    "    'item_price',\n",
    "    'shop_id' ,\n",
    "    'shop_name' ,\n",
    "    'item_name' ,\n",
    "    'item_id' ,\n",
    "    'item_category_name' ,\n",
    "    'item_category_id'\n",
    "], axis=1, inplace=True)\n",
    "time.time() - ts"
   ]
  },
  {
   "cell_type": "code",
   "execution_count": null,
   "metadata": {
    "_uuid": "66bc4dea25215b32c69c97d8ee7d53cba9676d06",
    "collapsed": true
   },
   "outputs": [],
   "source": [
    "print('\\t'.join(data.columns))\n",
    "print(data.shape)"
   ]
  },
  {
   "cell_type": "markdown",
   "metadata": {
    "_uuid": "5ce829b96e44e6bad9661b8cbb597119bd79df70"
   },
   "source": [
    "#### Filling null values with appropriate values"
   ]
  },
  {
   "cell_type": "code",
   "execution_count": null,
   "metadata": {
    "_uuid": "53ca4917740a9d10b32095d5ec256ce4ca28c961",
    "collapsed": true
   },
   "outputs": [],
   "source": [
    "ts = time.time()\n",
    "def fill_na(df):\n",
    "    for col in df.columns:\n",
    "        if df[col].isnull().any():\n",
    "            if ('item_cnt' in col):\n",
    "                df[col].fillna(0, inplace=True)\n",
    "            if ('orders' in col):\n",
    "                df[col].fillna(0, inplace=True)\n",
    "            if ('item_price' in col):\n",
    "                df[col].fillna(df[col].median(), inplace=True)\n",
    "    return df\n",
    "\n",
    "data = fill_na(data)\n",
    "time.time() - ts"
   ]
  },
  {
   "cell_type": "code",
   "execution_count": null,
   "metadata": {
    "_uuid": "b7bb070cfe612c51b28d2783d74cf7ae58f8d324",
    "collapsed": true
   },
   "outputs": [],
   "source": [
    "data.to_pickle('feature.pickle')"
   ]
  },
  {
   "cell_type": "code",
   "execution_count": null,
   "metadata": {
    "_uuid": "cd34e5a0f06cf282b635c6f1780b4e93063454dc",
    "collapsed": true
   },
   "outputs": [],
   "source": [
    "collected = gc.collect() \n",
    "print( \"Garbage collector: collected %d objects.\" % (collected) )"
   ]
  },
  {
   "cell_type": "code",
   "execution_count": null,
   "metadata": {
    "_uuid": "b6b17133fad4bf69f5470a062467a9d612e3a271",
    "collapsed": true
   },
   "outputs": [],
   "source": [
    "data.info()"
   ]
  },
  {
   "cell_type": "markdown",
   "metadata": {},
   "source": [
    "# Note: Takes considerable amount of time to run. I ran it on kaggle kernel!**"
   ]
  }
 ],
 "metadata": {
  "kernelspec": {
   "display_name": "Python 3",
   "language": "python",
   "name": "python3"
  },
  "language_info": {
   "codemirror_mode": {
    "name": "ipython",
    "version": 3
   },
   "file_extension": ".py",
   "mimetype": "text/x-python",
   "name": "python",
   "nbconvert_exporter": "python",
   "pygments_lexer": "ipython3",
   "version": "3.6.3"
  }
 },
 "nbformat": 4,
 "nbformat_minor": 1
}
